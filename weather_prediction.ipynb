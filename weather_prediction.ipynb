{
 "cells": [
  {
   "cell_type": "code",
   "execution_count": 1,
   "metadata": {
    "ExecuteTime": {
     "end_time": "2023-08-14T15:20:21.482618Z",
     "start_time": "2023-08-14T15:20:14.388113600Z"
    },
    "collapsed": true
   },
   "outputs": [
    {
     "name": "stderr",
     "output_type": "stream",
     "text": [
      "Using TensorFlow backend.\n"
     ]
    }
   ],
   "source": [
    "from random import random\n",
    "\n",
    "import pandas as pd\n",
    "from sklearn.model_selection import train_test_split\n",
    "from sklearn.preprocessing import StandardScaler\n",
    "from sklearn.neural_network import MLPClassifier\n",
    "from sklearn.metrics import accuracy_score\n",
    "import seaborn as sns\n",
    "from keras.utils import to_categorical\n",
    "\n",
    "from sklearn.preprocessing import LabelEncoder, OneHotEncoder"
   ]
  },
  {
   "cell_type": "code",
   "execution_count": 2,
   "metadata": {
    "ExecuteTime": {
     "end_time": "2023-08-14T15:20:22.162556Z",
     "start_time": "2023-08-14T15:20:21.504618900Z"
    }
   },
   "outputs": [
    {
     "name": "stdout",
     "output_type": "stream",
     "text": [
      "<class 'pandas.core.frame.DataFrame'>\n",
      "RangeIndex: 82500 entries, 0 to 82499\n",
      "Data columns (total 30 columns):\n",
      " #   Column          Non-Null Count  Dtype  \n",
      "---  ------          --------------  -----  \n",
      " 0   city            82500 non-null  object \n",
      " 1   datetime        82500 non-null  object \n",
      " 2   tempmax         82500 non-null  float64\n",
      " 3   tempmin         82500 non-null  float64\n",
      " 4   temp            82500 non-null  float64\n",
      " 5   feelslikemax    82500 non-null  float64\n",
      " 6   feelslikemin    82500 non-null  float64\n",
      " 7   feelslike       82500 non-null  float64\n",
      " 8   dew             82500 non-null  float64\n",
      " 9   humidity        82500 non-null  float64\n",
      " 10  precip          82500 non-null  float64\n",
      " 11  precipprob      82500 non-null  float64\n",
      " 12  precipcover     82500 non-null  float64\n",
      " 13  preciptype      62714 non-null  object \n",
      " 14  snow            82500 non-null  float64\n",
      " 15  snowdepth       82500 non-null  float64\n",
      " 16  windgust        34022 non-null  float64\n",
      " 17  windspeed       82500 non-null  float64\n",
      " 18  winddir         82500 non-null  float64\n",
      " 19  pressure        81590 non-null  float64\n",
      " 20  cloudcover      82498 non-null  float64\n",
      " 21  visibility      82500 non-null  float64\n",
      " 22  solarradiation  54373 non-null  float64\n",
      " 23  solarenergy     54373 non-null  float64\n",
      " 24  sunrise         82500 non-null  object \n",
      " 25  sunset          82500 non-null  object \n",
      " 26  moonphase       82500 non-null  float64\n",
      " 27  conditions      82500 non-null  object \n",
      " 28  longitude       82500 non-null  float64\n",
      " 29  latitude        82500 non-null  float64\n",
      "dtypes: float64(24), object(6)\n",
      "memory usage: 18.9+ MB\n"
     ]
    }
   ],
   "source": [
    "data = pd.read_csv(\"./data/weather_data_visualcrossing.csv\")\n",
    "data.info()"
   ]
  },
  {
   "cell_type": "code",
   "execution_count": 3,
   "metadata": {
    "ExecuteTime": {
     "end_time": "2023-08-14T15:20:22.223572300Z",
     "start_time": "2023-08-14T15:20:22.167558Z"
    }
   },
   "outputs": [
    {
     "data": {
      "text/html": [
       "<div>\n",
       "<style scoped>\n",
       "    .dataframe tbody tr th:only-of-type {\n",
       "        vertical-align: middle;\n",
       "    }\n",
       "\n",
       "    .dataframe tbody tr th {\n",
       "        vertical-align: top;\n",
       "    }\n",
       "\n",
       "    .dataframe thead th {\n",
       "        text-align: right;\n",
       "    }\n",
       "</style>\n",
       "<table border=\"1\" class=\"dataframe\">\n",
       "  <thead>\n",
       "    <tr style=\"text-align: right;\">\n",
       "      <th></th>\n",
       "      <th>city</th>\n",
       "      <th>datetime</th>\n",
       "      <th>tempmax</th>\n",
       "      <th>tempmin</th>\n",
       "      <th>temp</th>\n",
       "      <th>feelslikemax</th>\n",
       "      <th>feelslikemin</th>\n",
       "      <th>feelslike</th>\n",
       "      <th>dew</th>\n",
       "      <th>humidity</th>\n",
       "      <th>...</th>\n",
       "      <th>cloudcover</th>\n",
       "      <th>visibility</th>\n",
       "      <th>solarradiation</th>\n",
       "      <th>solarenergy</th>\n",
       "      <th>sunrise</th>\n",
       "      <th>sunset</th>\n",
       "      <th>moonphase</th>\n",
       "      <th>conditions</th>\n",
       "      <th>longitude</th>\n",
       "      <th>latitude</th>\n",
       "    </tr>\n",
       "  </thead>\n",
       "  <tbody>\n",
       "    <tr>\n",
       "      <th>0</th>\n",
       "      <td>Birmingham</td>\n",
       "      <td>2003-01-01</td>\n",
       "      <td>10.8</td>\n",
       "      <td>3.2</td>\n",
       "      <td>7.9</td>\n",
       "      <td>10.8</td>\n",
       "      <td>-1.0</td>\n",
       "      <td>5.7</td>\n",
       "      <td>7.2</td>\n",
       "      <td>95.4</td>\n",
       "      <td>...</td>\n",
       "      <td>88.7</td>\n",
       "      <td>9.6</td>\n",
       "      <td>NaN</td>\n",
       "      <td>NaN</td>\n",
       "      <td>08:18:24</td>\n",
       "      <td>16:03:53</td>\n",
       "      <td>0.95</td>\n",
       "      <td>Rain, Partially cloudy</td>\n",
       "      <td>-1.90592</td>\n",
       "      <td>52.4789</td>\n",
       "    </tr>\n",
       "    <tr>\n",
       "      <th>1</th>\n",
       "      <td>Birmingham</td>\n",
       "      <td>2003-01-02</td>\n",
       "      <td>8.1</td>\n",
       "      <td>6.1</td>\n",
       "      <td>7.3</td>\n",
       "      <td>7.0</td>\n",
       "      <td>4.6</td>\n",
       "      <td>5.6</td>\n",
       "      <td>6.2</td>\n",
       "      <td>93.2</td>\n",
       "      <td>...</td>\n",
       "      <td>82.2</td>\n",
       "      <td>11.0</td>\n",
       "      <td>NaN</td>\n",
       "      <td>NaN</td>\n",
       "      <td>08:18:15</td>\n",
       "      <td>16:04:59</td>\n",
       "      <td>0.00</td>\n",
       "      <td>Rain, Partially cloudy</td>\n",
       "      <td>-1.90592</td>\n",
       "      <td>52.4789</td>\n",
       "    </tr>\n",
       "    <tr>\n",
       "      <th>2</th>\n",
       "      <td>Birmingham</td>\n",
       "      <td>2003-01-03</td>\n",
       "      <td>5.3</td>\n",
       "      <td>-1.2</td>\n",
       "      <td>2.4</td>\n",
       "      <td>4.2</td>\n",
       "      <td>-5.0</td>\n",
       "      <td>-0.9</td>\n",
       "      <td>1.1</td>\n",
       "      <td>90.9</td>\n",
       "      <td>...</td>\n",
       "      <td>85.6</td>\n",
       "      <td>10.3</td>\n",
       "      <td>NaN</td>\n",
       "      <td>NaN</td>\n",
       "      <td>08:18:04</td>\n",
       "      <td>16:06:07</td>\n",
       "      <td>0.02</td>\n",
       "      <td>Snow, Rain, Partially cloudy</td>\n",
       "      <td>-1.90592</td>\n",
       "      <td>52.4789</td>\n",
       "    </tr>\n",
       "    <tr>\n",
       "      <th>3</th>\n",
       "      <td>Birmingham</td>\n",
       "      <td>2003-01-04</td>\n",
       "      <td>2.9</td>\n",
       "      <td>-2.1</td>\n",
       "      <td>0.2</td>\n",
       "      <td>-0.4</td>\n",
       "      <td>-5.8</td>\n",
       "      <td>-3.1</td>\n",
       "      <td>-1.5</td>\n",
       "      <td>88.7</td>\n",
       "      <td>...</td>\n",
       "      <td>41.2</td>\n",
       "      <td>10.6</td>\n",
       "      <td>NaN</td>\n",
       "      <td>NaN</td>\n",
       "      <td>08:17:49</td>\n",
       "      <td>16:07:18</td>\n",
       "      <td>0.05</td>\n",
       "      <td>Snow, Rain, Partially cloudy</td>\n",
       "      <td>-1.90592</td>\n",
       "      <td>52.4789</td>\n",
       "    </tr>\n",
       "    <tr>\n",
       "      <th>4</th>\n",
       "      <td>Birmingham</td>\n",
       "      <td>2003-01-05</td>\n",
       "      <td>2.8</td>\n",
       "      <td>-4.5</td>\n",
       "      <td>-1.4</td>\n",
       "      <td>1.8</td>\n",
       "      <td>-5.3</td>\n",
       "      <td>-2.0</td>\n",
       "      <td>-2.7</td>\n",
       "      <td>91.2</td>\n",
       "      <td>...</td>\n",
       "      <td>19.2</td>\n",
       "      <td>8.2</td>\n",
       "      <td>NaN</td>\n",
       "      <td>NaN</td>\n",
       "      <td>08:17:30</td>\n",
       "      <td>16:08:32</td>\n",
       "      <td>0.08</td>\n",
       "      <td>Snow, Rain</td>\n",
       "      <td>-1.90592</td>\n",
       "      <td>52.4789</td>\n",
       "    </tr>\n",
       "  </tbody>\n",
       "</table>\n",
       "<p>5 rows × 30 columns</p>\n",
       "</div>"
      ],
      "text/plain": [
       "         city    datetime  tempmax  tempmin  temp  feelslikemax  feelslikemin  \\\n",
       "0  Birmingham  2003-01-01     10.8      3.2   7.9          10.8          -1.0   \n",
       "1  Birmingham  2003-01-02      8.1      6.1   7.3           7.0           4.6   \n",
       "2  Birmingham  2003-01-03      5.3     -1.2   2.4           4.2          -5.0   \n",
       "3  Birmingham  2003-01-04      2.9     -2.1   0.2          -0.4          -5.8   \n",
       "4  Birmingham  2003-01-05      2.8     -4.5  -1.4           1.8          -5.3   \n",
       "\n",
       "   feelslike  dew  humidity  ...  cloudcover  visibility  solarradiation  \\\n",
       "0        5.7  7.2      95.4  ...        88.7         9.6             NaN   \n",
       "1        5.6  6.2      93.2  ...        82.2        11.0             NaN   \n",
       "2       -0.9  1.1      90.9  ...        85.6        10.3             NaN   \n",
       "3       -3.1 -1.5      88.7  ...        41.2        10.6             NaN   \n",
       "4       -2.0 -2.7      91.2  ...        19.2         8.2             NaN   \n",
       "\n",
       "  solarenergy   sunrise    sunset  moonphase                    conditions  \\\n",
       "0         NaN  08:18:24  16:03:53       0.95        Rain, Partially cloudy   \n",
       "1         NaN  08:18:15  16:04:59       0.00        Rain, Partially cloudy   \n",
       "2         NaN  08:18:04  16:06:07       0.02  Snow, Rain, Partially cloudy   \n",
       "3         NaN  08:17:49  16:07:18       0.05  Snow, Rain, Partially cloudy   \n",
       "4         NaN  08:17:30  16:08:32       0.08                    Snow, Rain   \n",
       "\n",
       "   longitude  latitude  \n",
       "0   -1.90592   52.4789  \n",
       "1   -1.90592   52.4789  \n",
       "2   -1.90592   52.4789  \n",
       "3   -1.90592   52.4789  \n",
       "4   -1.90592   52.4789  \n",
       "\n",
       "[5 rows x 30 columns]"
      ]
     },
     "execution_count": 3,
     "metadata": {},
     "output_type": "execute_result"
    }
   ],
   "source": [
    "data.head()"
   ]
  },
  {
   "cell_type": "code",
   "execution_count": 4,
   "metadata": {
    "ExecuteTime": {
     "end_time": "2023-08-14T15:20:22.249633100Z",
     "start_time": "2023-08-14T15:20:22.210550700Z"
    }
   },
   "outputs": [],
   "source": [
    "data = data.drop(['preciptype', 'windgust', 'precipcover', 'precip', 'snow', 'snowdepth', 'precipprob'], axis=1)"
   ]
  },
  {
   "cell_type": "code",
   "execution_count": 5,
   "metadata": {
    "ExecuteTime": {
     "end_time": "2023-08-14T15:20:22.334164700Z",
     "start_time": "2023-08-14T15:20:22.281628300Z"
    }
   },
   "outputs": [
    {
     "data": {
      "text/plain": [
       "city                  0\n",
       "datetime              0\n",
       "tempmax               0\n",
       "tempmin               0\n",
       "temp                  0\n",
       "feelslikemax          0\n",
       "feelslikemin          0\n",
       "feelslike             0\n",
       "dew                   0\n",
       "humidity              0\n",
       "windspeed             0\n",
       "winddir               0\n",
       "pressure            910\n",
       "cloudcover            2\n",
       "visibility            0\n",
       "solarradiation    28127\n",
       "solarenergy       28127\n",
       "sunrise               0\n",
       "sunset                0\n",
       "moonphase             0\n",
       "conditions            0\n",
       "longitude             0\n",
       "latitude              0\n",
       "dtype: int64"
      ]
     },
     "execution_count": 5,
     "metadata": {},
     "output_type": "execute_result"
    }
   ],
   "source": [
    "data.isna().sum()"
   ]
  },
  {
   "cell_type": "code",
   "execution_count": 6,
   "metadata": {
    "ExecuteTime": {
     "end_time": "2023-08-14T15:20:22.363153600Z",
     "start_time": "2023-08-14T15:20:22.281628300Z"
    }
   },
   "outputs": [],
   "source": [
    "#convert datetime format\n",
    "datetimeFormat = '%Y-%m-%d'\n",
    "data['datetime']=pd.to_datetime(data['datetime'], format=datetimeFormat)\n",
    "data['day'] = data['datetime'].dt.day\n",
    "data['month'] = data['datetime'].dt.month"
   ]
  },
  {
   "cell_type": "code",
   "execution_count": 7,
   "metadata": {
    "ExecuteTime": {
     "end_time": "2023-08-14T15:20:22.419170Z",
     "start_time": "2023-08-14T15:20:22.349153500Z"
    }
   },
   "outputs": [],
   "source": [
    "def print_column_stats(df, column):\n",
    "    print(\"Count  \",df[column].size)\n",
    "    print(\"% Null \",df[column].isnull().mean())\n",
    "    print(\"Size   \",df[column].unique().size)\n",
    "    print(\"Min    \",df[column].min())\n",
    "    print(\"1stQrt \",df[column].quantile(0.25))\n",
    "    print(\"Mean   \",df[column].mean())\n",
    "    print(\"Median \",df[column].median())\n",
    "    print(\"3rdQrt \",df[column].quantile(0.75))\n",
    "    print(\"95%    \",df[column].mean()+1.96*df[column].std())\n",
    "    print(\"Max    \",df[column].max())\n",
    "    print(\"Std    \",df[column].std())"
   ]
  },
  {
   "cell_type": "code",
   "execution_count": 8,
   "metadata": {
    "ExecuteTime": {
     "end_time": "2023-08-14T15:20:22.420170200Z",
     "start_time": "2023-08-14T15:20:22.365155600Z"
    }
   },
   "outputs": [
    {
     "name": "stdout",
     "output_type": "stream",
     "text": [
      "Count   82500\n",
      "% Null  0.011030303030303031\n",
      "Size    775\n",
      "Min     936.0\n",
      "1stQrt  1007.9\n",
      "Mean    1014.514608407893\n",
      "Median  1015.5\n",
      "3rdQrt  1022.1\n",
      "95%     1036.3867274653562\n",
      "Max     1048.5\n",
      "Std     11.159244417073129\n"
     ]
    }
   ],
   "source": [
    "print_column_stats(data, 'pressure')"
   ]
  },
  {
   "cell_type": "code",
   "execution_count": 9,
   "metadata": {
    "ExecuteTime": {
     "end_time": "2023-08-14T15:20:22.629748200Z",
     "start_time": "2023-08-14T15:20:22.413171400Z"
    }
   },
   "outputs": [
    {
     "name": "stdout",
     "output_type": "stream",
     "text": [
      "Count   82500\n",
      "% Null  0.3409333333333333\n",
      "Size    3645\n",
      "Min     1.8\n",
      "1stQrt  41.1\n",
      "Mean    126.19941882919832\n",
      "Median  106.5\n",
      "3rdQrt  197.3\n",
      "95%     311.1782073655594\n",
      "Max     610.3\n",
      "Std     94.37693292671482\n",
      "Count   82500\n",
      "% Null  0.3409333333333333\n",
      "Size    371\n",
      "Min     0.0\n",
      "1stQrt  3.5\n",
      "Mean    10.884744266455776\n",
      "Median  9.2\n",
      "3rdQrt  17.0\n",
      "95%     26.874681338705848\n",
      "Max     52.6\n",
      "Std     8.15813115931126\n"
     ]
    }
   ],
   "source": [
    "print_column_stats(data, 'solarradiation')\n",
    "print_column_stats(data, 'solarenergy')\n"
   ]
  },
  {
   "cell_type": "code",
   "execution_count": 10,
   "metadata": {
    "ExecuteTime": {
     "end_time": "2023-08-14T15:20:22.845233200Z",
     "start_time": "2023-08-14T15:20:22.493691800Z"
    }
   },
   "outputs": [
    {
     "name": "stderr",
     "output_type": "stream",
     "text": [
      "c:\\programdata\\miniconda3\\lib\\site-packages\\ipykernel_launcher.py:1: FutureWarning: Indexing with multiple keys (implicitly converted to a tuple of keys) will be deprecated, use a list instead.\n",
      "  \"\"\"Entry point for launching an IPython kernel.\n"
     ]
    },
    {
     "data": {
      "text/html": [
       "<div>\n",
       "<style scoped>\n",
       "    .dataframe tbody tr th:only-of-type {\n",
       "        vertical-align: middle;\n",
       "    }\n",
       "\n",
       "    .dataframe tbody tr th {\n",
       "        vertical-align: top;\n",
       "    }\n",
       "\n",
       "    .dataframe thead th {\n",
       "        text-align: right;\n",
       "    }\n",
       "</style>\n",
       "<table border=\"1\" class=\"dataframe\">\n",
       "  <thead>\n",
       "    <tr style=\"text-align: right;\">\n",
       "      <th></th>\n",
       "      <th></th>\n",
       "      <th>solarradiation</th>\n",
       "      <th>solarenergy</th>\n",
       "      <th>pressure</th>\n",
       "    </tr>\n",
       "    <tr>\n",
       "      <th>city</th>\n",
       "      <th>month</th>\n",
       "      <th></th>\n",
       "      <th></th>\n",
       "      <th></th>\n",
       "    </tr>\n",
       "  </thead>\n",
       "  <tbody>\n",
       "    <tr>\n",
       "      <th rowspan=\"5\" valign=\"top\">Birmingham</th>\n",
       "      <th>1</th>\n",
       "      <td>26.05</td>\n",
       "      <td>2.20</td>\n",
       "      <td>1014.70</td>\n",
       "    </tr>\n",
       "    <tr>\n",
       "      <th>2</th>\n",
       "      <td>54.00</td>\n",
       "      <td>4.60</td>\n",
       "      <td>1016.50</td>\n",
       "    </tr>\n",
       "    <tr>\n",
       "      <th>3</th>\n",
       "      <td>102.55</td>\n",
       "      <td>8.80</td>\n",
       "      <td>1015.30</td>\n",
       "    </tr>\n",
       "    <tr>\n",
       "      <th>4</th>\n",
       "      <td>182.50</td>\n",
       "      <td>15.70</td>\n",
       "      <td>1016.15</td>\n",
       "    </tr>\n",
       "    <tr>\n",
       "      <th>5</th>\n",
       "      <td>216.05</td>\n",
       "      <td>18.60</td>\n",
       "      <td>1016.30</td>\n",
       "    </tr>\n",
       "    <tr>\n",
       "      <th>...</th>\n",
       "      <th>...</th>\n",
       "      <td>...</td>\n",
       "      <td>...</td>\n",
       "      <td>...</td>\n",
       "    </tr>\n",
       "    <tr>\n",
       "      <th rowspan=\"5\" valign=\"top\">Plymouth</th>\n",
       "      <th>8</th>\n",
       "      <td>209.50</td>\n",
       "      <td>18.10</td>\n",
       "      <td>1016.65</td>\n",
       "    </tr>\n",
       "    <tr>\n",
       "      <th>9</th>\n",
       "      <td>150.80</td>\n",
       "      <td>13.05</td>\n",
       "      <td>1018.40</td>\n",
       "    </tr>\n",
       "    <tr>\n",
       "      <th>10</th>\n",
       "      <td>89.70</td>\n",
       "      <td>7.80</td>\n",
       "      <td>1015.45</td>\n",
       "    </tr>\n",
       "    <tr>\n",
       "      <th>11</th>\n",
       "      <td>39.85</td>\n",
       "      <td>3.40</td>\n",
       "      <td>1014.20</td>\n",
       "    </tr>\n",
       "    <tr>\n",
       "      <th>12</th>\n",
       "      <td>24.50</td>\n",
       "      <td>2.10</td>\n",
       "      <td>1016.60</td>\n",
       "    </tr>\n",
       "  </tbody>\n",
       "</table>\n",
       "<p>132 rows × 3 columns</p>\n",
       "</div>"
      ],
      "text/plain": [
       "                  solarradiation  solarenergy  pressure\n",
       "city       month                                       \n",
       "Birmingham 1               26.05         2.20   1014.70\n",
       "           2               54.00         4.60   1016.50\n",
       "           3              102.55         8.80   1015.30\n",
       "           4              182.50        15.70   1016.15\n",
       "           5              216.05        18.60   1016.30\n",
       "...                          ...          ...       ...\n",
       "Plymouth   8              209.50        18.10   1016.65\n",
       "           9              150.80        13.05   1018.40\n",
       "           10              89.70         7.80   1015.45\n",
       "           11              39.85         3.40   1014.20\n",
       "           12              24.50         2.10   1016.60\n",
       "\n",
       "[132 rows x 3 columns]"
      ]
     },
     "execution_count": 10,
     "metadata": {},
     "output_type": "execute_result"
    }
   ],
   "source": [
    "median_values = data.groupby(['city', 'month'])['solarradiation', 'solarenergy', 'pressure'].median()\n",
    "median_values"
   ]
  },
  {
   "cell_type": "code",
   "execution_count": 11,
   "metadata": {
    "ExecuteTime": {
     "end_time": "2023-08-14T15:21:29.230151700Z",
     "start_time": "2023-08-14T15:20:22.586217400Z"
    }
   },
   "outputs": [],
   "source": [
    "data['solarradiation'] = data['solarradiation'].fillna(data.apply(lambda row: median_values.loc[(row['city'], row['month']), 'solarradiation'], axis=1))\n",
    "data['solarenergy'] = data['solarenergy'].fillna(data.apply(lambda row: median_values.loc[(row['city'], row['month']), 'solarenergy'], axis=1))\n",
    "data['pressure'] = data['pressure'].fillna(data.apply(lambda row: median_values.loc[(row['city'], row['month']), 'solarenergy'], axis=1))"
   ]
  },
  {
   "cell_type": "code",
   "execution_count": 12,
   "metadata": {
    "ExecuteTime": {
     "end_time": "2023-08-14T15:21:29.310750400Z",
     "start_time": "2023-08-14T15:21:29.233152600Z"
    }
   },
   "outputs": [
    {
     "data": {
      "text/plain": [
       "city              0\n",
       "datetime          0\n",
       "tempmax           0\n",
       "tempmin           0\n",
       "temp              0\n",
       "feelslikemax      0\n",
       "feelslikemin      0\n",
       "feelslike         0\n",
       "dew               0\n",
       "humidity          0\n",
       "windspeed         0\n",
       "winddir           0\n",
       "pressure          0\n",
       "cloudcover        0\n",
       "visibility        0\n",
       "solarradiation    0\n",
       "solarenergy       0\n",
       "sunrise           0\n",
       "sunset            0\n",
       "moonphase         0\n",
       "conditions        0\n",
       "longitude         0\n",
       "latitude          0\n",
       "day               0\n",
       "month             0\n",
       "dtype: int64"
      ]
     },
     "execution_count": 12,
     "metadata": {},
     "output_type": "execute_result"
    }
   ],
   "source": [
    "data = data.dropna()\n",
    "data.isna().sum()"
   ]
  },
  {
   "cell_type": "code",
   "execution_count": 12,
   "metadata": {
    "ExecuteTime": {
     "end_time": "2023-08-14T15:21:29.324935Z",
     "start_time": "2023-08-14T15:21:29.311770200Z"
    }
   },
   "outputs": [],
   "source": []
  },
  {
   "cell_type": "code",
   "execution_count": 13,
   "metadata": {
    "ExecuteTime": {
     "end_time": "2023-08-14T15:21:29.385001300Z",
     "start_time": "2023-08-14T15:21:29.329949600Z"
    }
   },
   "outputs": [
    {
     "name": "stdout",
     "output_type": "stream",
     "text": [
      "<class 'pandas.core.frame.DataFrame'>\n",
      "Int64Index: 82498 entries, 0 to 82499\n",
      "Data columns (total 25 columns):\n",
      " #   Column          Non-Null Count  Dtype         \n",
      "---  ------          --------------  -----         \n",
      " 0   city            82498 non-null  object        \n",
      " 1   datetime        82498 non-null  datetime64[ns]\n",
      " 2   tempmax         82498 non-null  float64       \n",
      " 3   tempmin         82498 non-null  float64       \n",
      " 4   temp            82498 non-null  float64       \n",
      " 5   feelslikemax    82498 non-null  float64       \n",
      " 6   feelslikemin    82498 non-null  float64       \n",
      " 7   feelslike       82498 non-null  float64       \n",
      " 8   dew             82498 non-null  float64       \n",
      " 9   humidity        82498 non-null  float64       \n",
      " 10  windspeed       82498 non-null  float64       \n",
      " 11  winddir         82498 non-null  float64       \n",
      " 12  pressure        82498 non-null  float64       \n",
      " 13  cloudcover      82498 non-null  float64       \n",
      " 14  visibility      82498 non-null  float64       \n",
      " 15  solarradiation  82498 non-null  float64       \n",
      " 16  solarenergy     82498 non-null  float64       \n",
      " 17  sunrise         82498 non-null  object        \n",
      " 18  sunset          82498 non-null  object        \n",
      " 19  moonphase       82498 non-null  float64       \n",
      " 20  conditions      82498 non-null  object        \n",
      " 21  longitude       82498 non-null  float64       \n",
      " 22  latitude        82498 non-null  float64       \n",
      " 23  day             82498 non-null  int64         \n",
      " 24  month           82498 non-null  int64         \n",
      "dtypes: datetime64[ns](1), float64(18), int64(2), object(4)\n",
      "memory usage: 16.4+ MB\n"
     ]
    }
   ],
   "source": [
    "data.info()"
   ]
  },
  {
   "cell_type": "code",
   "execution_count": 14,
   "metadata": {
    "ExecuteTime": {
     "end_time": "2023-08-14T15:21:29.484631200Z",
     "start_time": "2023-08-14T15:21:29.376936600Z"
    }
   },
   "outputs": [
    {
     "data": {
      "text/html": [
       "<div>\n",
       "<style scoped>\n",
       "    .dataframe tbody tr th:only-of-type {\n",
       "        vertical-align: middle;\n",
       "    }\n",
       "\n",
       "    .dataframe tbody tr th {\n",
       "        vertical-align: top;\n",
       "    }\n",
       "\n",
       "    .dataframe thead th {\n",
       "        text-align: right;\n",
       "    }\n",
       "</style>\n",
       "<table border=\"1\" class=\"dataframe\">\n",
       "  <thead>\n",
       "    <tr style=\"text-align: right;\">\n",
       "      <th></th>\n",
       "      <th>city</th>\n",
       "      <th>datetime</th>\n",
       "      <th>tempmax</th>\n",
       "      <th>tempmin</th>\n",
       "      <th>temp</th>\n",
       "      <th>feelslikemax</th>\n",
       "      <th>feelslikemin</th>\n",
       "      <th>feelslike</th>\n",
       "      <th>dew</th>\n",
       "      <th>humidity</th>\n",
       "      <th>...</th>\n",
       "      <th>solarradiation</th>\n",
       "      <th>solarenergy</th>\n",
       "      <th>sunrise</th>\n",
       "      <th>sunset</th>\n",
       "      <th>moonphase</th>\n",
       "      <th>conditions</th>\n",
       "      <th>longitude</th>\n",
       "      <th>latitude</th>\n",
       "      <th>day</th>\n",
       "      <th>month</th>\n",
       "    </tr>\n",
       "  </thead>\n",
       "  <tbody>\n",
       "    <tr>\n",
       "      <th>0</th>\n",
       "      <td>Birmingham</td>\n",
       "      <td>2003-01-01</td>\n",
       "      <td>10.8</td>\n",
       "      <td>3.2</td>\n",
       "      <td>7.9</td>\n",
       "      <td>10.8</td>\n",
       "      <td>-1.0</td>\n",
       "      <td>5.7</td>\n",
       "      <td>7.2</td>\n",
       "      <td>95.4</td>\n",
       "      <td>...</td>\n",
       "      <td>26.05</td>\n",
       "      <td>2.2</td>\n",
       "      <td>08:18:24</td>\n",
       "      <td>16:03:53</td>\n",
       "      <td>0.95</td>\n",
       "      <td>Rain, Partially cloudy</td>\n",
       "      <td>-1.90592</td>\n",
       "      <td>52.4789</td>\n",
       "      <td>1</td>\n",
       "      <td>1</td>\n",
       "    </tr>\n",
       "    <tr>\n",
       "      <th>1</th>\n",
       "      <td>Birmingham</td>\n",
       "      <td>2003-01-02</td>\n",
       "      <td>8.1</td>\n",
       "      <td>6.1</td>\n",
       "      <td>7.3</td>\n",
       "      <td>7.0</td>\n",
       "      <td>4.6</td>\n",
       "      <td>5.6</td>\n",
       "      <td>6.2</td>\n",
       "      <td>93.2</td>\n",
       "      <td>...</td>\n",
       "      <td>26.05</td>\n",
       "      <td>2.2</td>\n",
       "      <td>08:18:15</td>\n",
       "      <td>16:04:59</td>\n",
       "      <td>0.00</td>\n",
       "      <td>Rain, Partially cloudy</td>\n",
       "      <td>-1.90592</td>\n",
       "      <td>52.4789</td>\n",
       "      <td>2</td>\n",
       "      <td>1</td>\n",
       "    </tr>\n",
       "    <tr>\n",
       "      <th>2</th>\n",
       "      <td>Birmingham</td>\n",
       "      <td>2003-01-03</td>\n",
       "      <td>5.3</td>\n",
       "      <td>-1.2</td>\n",
       "      <td>2.4</td>\n",
       "      <td>4.2</td>\n",
       "      <td>-5.0</td>\n",
       "      <td>-0.9</td>\n",
       "      <td>1.1</td>\n",
       "      <td>90.9</td>\n",
       "      <td>...</td>\n",
       "      <td>26.05</td>\n",
       "      <td>2.2</td>\n",
       "      <td>08:18:04</td>\n",
       "      <td>16:06:07</td>\n",
       "      <td>0.02</td>\n",
       "      <td>Snow, Rain, Partially cloudy</td>\n",
       "      <td>-1.90592</td>\n",
       "      <td>52.4789</td>\n",
       "      <td>3</td>\n",
       "      <td>1</td>\n",
       "    </tr>\n",
       "    <tr>\n",
       "      <th>3</th>\n",
       "      <td>Birmingham</td>\n",
       "      <td>2003-01-04</td>\n",
       "      <td>2.9</td>\n",
       "      <td>-2.1</td>\n",
       "      <td>0.2</td>\n",
       "      <td>-0.4</td>\n",
       "      <td>-5.8</td>\n",
       "      <td>-3.1</td>\n",
       "      <td>-1.5</td>\n",
       "      <td>88.7</td>\n",
       "      <td>...</td>\n",
       "      <td>26.05</td>\n",
       "      <td>2.2</td>\n",
       "      <td>08:17:49</td>\n",
       "      <td>16:07:18</td>\n",
       "      <td>0.05</td>\n",
       "      <td>Snow, Rain, Partially cloudy</td>\n",
       "      <td>-1.90592</td>\n",
       "      <td>52.4789</td>\n",
       "      <td>4</td>\n",
       "      <td>1</td>\n",
       "    </tr>\n",
       "    <tr>\n",
       "      <th>4</th>\n",
       "      <td>Birmingham</td>\n",
       "      <td>2003-01-05</td>\n",
       "      <td>2.8</td>\n",
       "      <td>-4.5</td>\n",
       "      <td>-1.4</td>\n",
       "      <td>1.8</td>\n",
       "      <td>-5.3</td>\n",
       "      <td>-2.0</td>\n",
       "      <td>-2.7</td>\n",
       "      <td>91.2</td>\n",
       "      <td>...</td>\n",
       "      <td>26.05</td>\n",
       "      <td>2.2</td>\n",
       "      <td>08:17:30</td>\n",
       "      <td>16:08:32</td>\n",
       "      <td>0.08</td>\n",
       "      <td>Snow, Rain</td>\n",
       "      <td>-1.90592</td>\n",
       "      <td>52.4789</td>\n",
       "      <td>5</td>\n",
       "      <td>1</td>\n",
       "    </tr>\n",
       "  </tbody>\n",
       "</table>\n",
       "<p>5 rows × 25 columns</p>\n",
       "</div>"
      ],
      "text/plain": [
       "         city   datetime  tempmax  tempmin  temp  feelslikemax  feelslikemin  \\\n",
       "0  Birmingham 2003-01-01     10.8      3.2   7.9          10.8          -1.0   \n",
       "1  Birmingham 2003-01-02      8.1      6.1   7.3           7.0           4.6   \n",
       "2  Birmingham 2003-01-03      5.3     -1.2   2.4           4.2          -5.0   \n",
       "3  Birmingham 2003-01-04      2.9     -2.1   0.2          -0.4          -5.8   \n",
       "4  Birmingham 2003-01-05      2.8     -4.5  -1.4           1.8          -5.3   \n",
       "\n",
       "   feelslike  dew  humidity  ...  solarradiation  solarenergy   sunrise  \\\n",
       "0        5.7  7.2      95.4  ...           26.05          2.2  08:18:24   \n",
       "1        5.6  6.2      93.2  ...           26.05          2.2  08:18:15   \n",
       "2       -0.9  1.1      90.9  ...           26.05          2.2  08:18:04   \n",
       "3       -3.1 -1.5      88.7  ...           26.05          2.2  08:17:49   \n",
       "4       -2.0 -2.7      91.2  ...           26.05          2.2  08:17:30   \n",
       "\n",
       "     sunset  moonphase                    conditions  longitude latitude day  \\\n",
       "0  16:03:53       0.95        Rain, Partially cloudy   -1.90592  52.4789   1   \n",
       "1  16:04:59       0.00        Rain, Partially cloudy   -1.90592  52.4789   2   \n",
       "2  16:06:07       0.02  Snow, Rain, Partially cloudy   -1.90592  52.4789   3   \n",
       "3  16:07:18       0.05  Snow, Rain, Partially cloudy   -1.90592  52.4789   4   \n",
       "4  16:08:32       0.08                    Snow, Rain   -1.90592  52.4789   5   \n",
       "\n",
       "   month  \n",
       "0      1  \n",
       "1      1  \n",
       "2      1  \n",
       "3      1  \n",
       "4      1  \n",
       "\n",
       "[5 rows x 25 columns]"
      ]
     },
     "execution_count": 14,
     "metadata": {},
     "output_type": "execute_result"
    }
   ],
   "source": [
    "data.head()"
   ]
  },
  {
   "cell_type": "code",
   "execution_count": 15,
   "metadata": {
    "ExecuteTime": {
     "end_time": "2023-08-14T15:21:29.554162600Z",
     "start_time": "2023-08-14T15:21:29.432548800Z"
    }
   },
   "outputs": [
    {
     "data": {
      "text/plain": [
       "Rain, Partially cloudy          52159\n",
       "Partially cloudy                17349\n",
       "Snow, Rain, Partially cloudy     4766\n",
       "Rain, Overcast                   3696\n",
       "Clear                            1895\n",
       "Overcast                         1124\n",
       "Rain                              603\n",
       "Snow, Partially cloudy            357\n",
       "Snow, Rain, Overcast              315\n",
       "Snow, Rain                        157\n",
       "Snow                               58\n",
       "Snow, Overcast                     19\n",
       "Name: conditions, dtype: int64"
      ]
     },
     "execution_count": 15,
     "metadata": {},
     "output_type": "execute_result"
    }
   ],
   "source": [
    "data['conditions'].value_counts()"
   ]
  },
  {
   "cell_type": "code",
   "execution_count": 16,
   "metadata": {
    "ExecuteTime": {
     "end_time": "2023-08-14T15:21:29.680348900Z",
     "start_time": "2023-08-14T15:21:29.454559900Z"
    }
   },
   "outputs": [
    {
     "data": {
      "text/plain": [
       "Rain                56615\n",
       "Partially cloudy    17706\n",
       "Snow                 5158\n",
       "Clear                1895\n",
       "Overcast             1124\n",
       "Name: conditions, dtype: int64"
      ]
     },
     "execution_count": 16,
     "metadata": {},
     "output_type": "execute_result"
    }
   ],
   "source": [
    "weather_merge_dict = {\n",
    "    'Rain, Partially cloudy': 'Rain',\n",
    "    'Rain, Overcast': 'Rain',\n",
    "    'Snow, Rain, Overcast': 'Snow',\n",
    "    'Snow, Rain, Partially cloudy': 'Snow',\n",
    "    'Snow, Overcast': 'Snow',\n",
    "    'Snow, Partially cloudy': 'Partially cloudy',\n",
    "    'Snow, Rain': 'Rain'\n",
    "}\n",
    "data['conditions'] = data['conditions'].replace(weather_merge_dict)\n",
    "data['conditions'].value_counts()\n"
   ]
  },
  {
   "cell_type": "code",
   "execution_count": 18,
   "metadata": {
    "ExecuteTime": {
     "end_time": "2023-08-14T15:21:30.369334400Z",
     "start_time": "2023-08-14T15:21:29.519162800Z"
    }
   },
   "outputs": [
    {
     "data": {
      "text/html": [
       "<div>\n",
       "<style scoped>\n",
       "    .dataframe tbody tr th:only-of-type {\n",
       "        vertical-align: middle;\n",
       "    }\n",
       "\n",
       "    .dataframe tbody tr th {\n",
       "        vertical-align: top;\n",
       "    }\n",
       "\n",
       "    .dataframe thead th {\n",
       "        text-align: right;\n",
       "    }\n",
       "</style>\n",
       "<table border=\"1\" class=\"dataframe\">\n",
       "  <thead>\n",
       "    <tr style=\"text-align: right;\">\n",
       "      <th></th>\n",
       "      <th>city</th>\n",
       "      <th>tempmax</th>\n",
       "      <th>tempmin</th>\n",
       "      <th>temp</th>\n",
       "      <th>feelslikemax</th>\n",
       "      <th>feelslikemin</th>\n",
       "      <th>feelslike</th>\n",
       "      <th>dew</th>\n",
       "      <th>humidity</th>\n",
       "      <th>windspeed</th>\n",
       "      <th>...</th>\n",
       "      <th>cloudcover</th>\n",
       "      <th>visibility</th>\n",
       "      <th>solarradiation</th>\n",
       "      <th>solarenergy</th>\n",
       "      <th>moonphase</th>\n",
       "      <th>conditions</th>\n",
       "      <th>longitude</th>\n",
       "      <th>latitude</th>\n",
       "      <th>day</th>\n",
       "      <th>month</th>\n",
       "    </tr>\n",
       "  </thead>\n",
       "  <tbody>\n",
       "    <tr>\n",
       "      <th>0</th>\n",
       "      <td>Birmingham</td>\n",
       "      <td>10.8</td>\n",
       "      <td>3.2</td>\n",
       "      <td>7.9</td>\n",
       "      <td>10.8</td>\n",
       "      <td>-1.0</td>\n",
       "      <td>5.7</td>\n",
       "      <td>7.2</td>\n",
       "      <td>95.4</td>\n",
       "      <td>24.8</td>\n",
       "      <td>...</td>\n",
       "      <td>88.7</td>\n",
       "      <td>9.6</td>\n",
       "      <td>26.05</td>\n",
       "      <td>2.2</td>\n",
       "      <td>0.95</td>\n",
       "      <td>3</td>\n",
       "      <td>-1.90592</td>\n",
       "      <td>52.4789</td>\n",
       "      <td>1</td>\n",
       "      <td>1</td>\n",
       "    </tr>\n",
       "    <tr>\n",
       "      <th>1</th>\n",
       "      <td>Birmingham</td>\n",
       "      <td>8.1</td>\n",
       "      <td>6.1</td>\n",
       "      <td>7.3</td>\n",
       "      <td>7.0</td>\n",
       "      <td>4.6</td>\n",
       "      <td>5.6</td>\n",
       "      <td>6.2</td>\n",
       "      <td>93.2</td>\n",
       "      <td>17.9</td>\n",
       "      <td>...</td>\n",
       "      <td>82.2</td>\n",
       "      <td>11.0</td>\n",
       "      <td>26.05</td>\n",
       "      <td>2.2</td>\n",
       "      <td>0.00</td>\n",
       "      <td>3</td>\n",
       "      <td>-1.90592</td>\n",
       "      <td>52.4789</td>\n",
       "      <td>2</td>\n",
       "      <td>1</td>\n",
       "    </tr>\n",
       "    <tr>\n",
       "      <th>2</th>\n",
       "      <td>Birmingham</td>\n",
       "      <td>5.3</td>\n",
       "      <td>-1.2</td>\n",
       "      <td>2.4</td>\n",
       "      <td>4.2</td>\n",
       "      <td>-5.0</td>\n",
       "      <td>-0.9</td>\n",
       "      <td>1.1</td>\n",
       "      <td>90.9</td>\n",
       "      <td>20.6</td>\n",
       "      <td>...</td>\n",
       "      <td>85.6</td>\n",
       "      <td>10.3</td>\n",
       "      <td>26.05</td>\n",
       "      <td>2.2</td>\n",
       "      <td>0.02</td>\n",
       "      <td>4</td>\n",
       "      <td>-1.90592</td>\n",
       "      <td>52.4789</td>\n",
       "      <td>3</td>\n",
       "      <td>1</td>\n",
       "    </tr>\n",
       "    <tr>\n",
       "      <th>3</th>\n",
       "      <td>Birmingham</td>\n",
       "      <td>2.9</td>\n",
       "      <td>-2.1</td>\n",
       "      <td>0.2</td>\n",
       "      <td>-0.4</td>\n",
       "      <td>-5.8</td>\n",
       "      <td>-3.1</td>\n",
       "      <td>-1.5</td>\n",
       "      <td>88.7</td>\n",
       "      <td>15.7</td>\n",
       "      <td>...</td>\n",
       "      <td>41.2</td>\n",
       "      <td>10.6</td>\n",
       "      <td>26.05</td>\n",
       "      <td>2.2</td>\n",
       "      <td>0.05</td>\n",
       "      <td>4</td>\n",
       "      <td>-1.90592</td>\n",
       "      <td>52.4789</td>\n",
       "      <td>4</td>\n",
       "      <td>1</td>\n",
       "    </tr>\n",
       "    <tr>\n",
       "      <th>4</th>\n",
       "      <td>Birmingham</td>\n",
       "      <td>2.8</td>\n",
       "      <td>-4.5</td>\n",
       "      <td>-1.4</td>\n",
       "      <td>1.8</td>\n",
       "      <td>-5.3</td>\n",
       "      <td>-2.0</td>\n",
       "      <td>-2.7</td>\n",
       "      <td>91.2</td>\n",
       "      <td>7.9</td>\n",
       "      <td>...</td>\n",
       "      <td>19.2</td>\n",
       "      <td>8.2</td>\n",
       "      <td>26.05</td>\n",
       "      <td>2.2</td>\n",
       "      <td>0.08</td>\n",
       "      <td>3</td>\n",
       "      <td>-1.90592</td>\n",
       "      <td>52.4789</td>\n",
       "      <td>5</td>\n",
       "      <td>1</td>\n",
       "    </tr>\n",
       "    <tr>\n",
       "      <th>...</th>\n",
       "      <td>...</td>\n",
       "      <td>...</td>\n",
       "      <td>...</td>\n",
       "      <td>...</td>\n",
       "      <td>...</td>\n",
       "      <td>...</td>\n",
       "      <td>...</td>\n",
       "      <td>...</td>\n",
       "      <td>...</td>\n",
       "      <td>...</td>\n",
       "      <td>...</td>\n",
       "      <td>...</td>\n",
       "      <td>...</td>\n",
       "      <td>...</td>\n",
       "      <td>...</td>\n",
       "      <td>...</td>\n",
       "      <td>...</td>\n",
       "      <td>...</td>\n",
       "      <td>...</td>\n",
       "      <td>...</td>\n",
       "      <td>...</td>\n",
       "    </tr>\n",
       "    <tr>\n",
       "      <th>82495</th>\n",
       "      <td>Plymouth</td>\n",
       "      <td>18.1</td>\n",
       "      <td>13.1</td>\n",
       "      <td>15.5</td>\n",
       "      <td>18.1</td>\n",
       "      <td>13.1</td>\n",
       "      <td>15.5</td>\n",
       "      <td>13.3</td>\n",
       "      <td>87.0</td>\n",
       "      <td>29.9</td>\n",
       "      <td>...</td>\n",
       "      <td>89.7</td>\n",
       "      <td>19.4</td>\n",
       "      <td>287.00</td>\n",
       "      <td>24.6</td>\n",
       "      <td>0.75</td>\n",
       "      <td>3</td>\n",
       "      <td>-4.13663</td>\n",
       "      <td>50.3762</td>\n",
       "      <td>10</td>\n",
       "      <td>7</td>\n",
       "    </tr>\n",
       "    <tr>\n",
       "      <th>82496</th>\n",
       "      <td>Plymouth</td>\n",
       "      <td>17.9</td>\n",
       "      <td>13.8</td>\n",
       "      <td>15.4</td>\n",
       "      <td>17.9</td>\n",
       "      <td>13.8</td>\n",
       "      <td>15.4</td>\n",
       "      <td>13.4</td>\n",
       "      <td>88.0</td>\n",
       "      <td>28.4</td>\n",
       "      <td>...</td>\n",
       "      <td>88.5</td>\n",
       "      <td>19.9</td>\n",
       "      <td>238.80</td>\n",
       "      <td>20.5</td>\n",
       "      <td>0.78</td>\n",
       "      <td>3</td>\n",
       "      <td>-4.13663</td>\n",
       "      <td>50.3762</td>\n",
       "      <td>11</td>\n",
       "      <td>7</td>\n",
       "    </tr>\n",
       "    <tr>\n",
       "      <th>82497</th>\n",
       "      <td>Plymouth</td>\n",
       "      <td>18.8</td>\n",
       "      <td>12.6</td>\n",
       "      <td>15.6</td>\n",
       "      <td>18.8</td>\n",
       "      <td>12.6</td>\n",
       "      <td>15.6</td>\n",
       "      <td>11.6</td>\n",
       "      <td>77.9</td>\n",
       "      <td>30.2</td>\n",
       "      <td>...</td>\n",
       "      <td>52.1</td>\n",
       "      <td>22.5</td>\n",
       "      <td>311.00</td>\n",
       "      <td>26.6</td>\n",
       "      <td>0.81</td>\n",
       "      <td>3</td>\n",
       "      <td>-4.13663</td>\n",
       "      <td>50.3762</td>\n",
       "      <td>12</td>\n",
       "      <td>7</td>\n",
       "    </tr>\n",
       "    <tr>\n",
       "      <th>82498</th>\n",
       "      <td>Plymouth</td>\n",
       "      <td>18.7</td>\n",
       "      <td>13.3</td>\n",
       "      <td>15.9</td>\n",
       "      <td>18.7</td>\n",
       "      <td>13.3</td>\n",
       "      <td>15.9</td>\n",
       "      <td>13.9</td>\n",
       "      <td>88.2</td>\n",
       "      <td>22.0</td>\n",
       "      <td>...</td>\n",
       "      <td>90.4</td>\n",
       "      <td>16.0</td>\n",
       "      <td>132.80</td>\n",
       "      <td>11.5</td>\n",
       "      <td>0.85</td>\n",
       "      <td>1</td>\n",
       "      <td>-4.13663</td>\n",
       "      <td>50.3762</td>\n",
       "      <td>13</td>\n",
       "      <td>7</td>\n",
       "    </tr>\n",
       "    <tr>\n",
       "      <th>82499</th>\n",
       "      <td>Plymouth</td>\n",
       "      <td>20.7</td>\n",
       "      <td>16.4</td>\n",
       "      <td>18.1</td>\n",
       "      <td>20.7</td>\n",
       "      <td>16.4</td>\n",
       "      <td>18.1</td>\n",
       "      <td>16.3</td>\n",
       "      <td>89.8</td>\n",
       "      <td>34.2</td>\n",
       "      <td>...</td>\n",
       "      <td>93.0</td>\n",
       "      <td>15.7</td>\n",
       "      <td>237.20</td>\n",
       "      <td>20.6</td>\n",
       "      <td>0.88</td>\n",
       "      <td>1</td>\n",
       "      <td>-4.13663</td>\n",
       "      <td>50.3762</td>\n",
       "      <td>14</td>\n",
       "      <td>7</td>\n",
       "    </tr>\n",
       "  </tbody>\n",
       "</table>\n",
       "<p>82498 rows × 22 columns</p>\n",
       "</div>"
      ],
      "text/plain": [
       "             city  tempmax  tempmin  temp  feelslikemax  feelslikemin  \\\n",
       "0      Birmingham     10.8      3.2   7.9          10.8          -1.0   \n",
       "1      Birmingham      8.1      6.1   7.3           7.0           4.6   \n",
       "2      Birmingham      5.3     -1.2   2.4           4.2          -5.0   \n",
       "3      Birmingham      2.9     -2.1   0.2          -0.4          -5.8   \n",
       "4      Birmingham      2.8     -4.5  -1.4           1.8          -5.3   \n",
       "...           ...      ...      ...   ...           ...           ...   \n",
       "82495    Plymouth     18.1     13.1  15.5          18.1          13.1   \n",
       "82496    Plymouth     17.9     13.8  15.4          17.9          13.8   \n",
       "82497    Plymouth     18.8     12.6  15.6          18.8          12.6   \n",
       "82498    Plymouth     18.7     13.3  15.9          18.7          13.3   \n",
       "82499    Plymouth     20.7     16.4  18.1          20.7          16.4   \n",
       "\n",
       "       feelslike   dew  humidity  windspeed  ...  cloudcover  visibility  \\\n",
       "0            5.7   7.2      95.4       24.8  ...        88.7         9.6   \n",
       "1            5.6   6.2      93.2       17.9  ...        82.2        11.0   \n",
       "2           -0.9   1.1      90.9       20.6  ...        85.6        10.3   \n",
       "3           -3.1  -1.5      88.7       15.7  ...        41.2        10.6   \n",
       "4           -2.0  -2.7      91.2        7.9  ...        19.2         8.2   \n",
       "...          ...   ...       ...        ...  ...         ...         ...   \n",
       "82495       15.5  13.3      87.0       29.9  ...        89.7        19.4   \n",
       "82496       15.4  13.4      88.0       28.4  ...        88.5        19.9   \n",
       "82497       15.6  11.6      77.9       30.2  ...        52.1        22.5   \n",
       "82498       15.9  13.9      88.2       22.0  ...        90.4        16.0   \n",
       "82499       18.1  16.3      89.8       34.2  ...        93.0        15.7   \n",
       "\n",
       "       solarradiation  solarenergy  moonphase  conditions  longitude  \\\n",
       "0               26.05          2.2       0.95           3   -1.90592   \n",
       "1               26.05          2.2       0.00           3   -1.90592   \n",
       "2               26.05          2.2       0.02           4   -1.90592   \n",
       "3               26.05          2.2       0.05           4   -1.90592   \n",
       "4               26.05          2.2       0.08           3   -1.90592   \n",
       "...               ...          ...        ...         ...        ...   \n",
       "82495          287.00         24.6       0.75           3   -4.13663   \n",
       "82496          238.80         20.5       0.78           3   -4.13663   \n",
       "82497          311.00         26.6       0.81           3   -4.13663   \n",
       "82498          132.80         11.5       0.85           1   -4.13663   \n",
       "82499          237.20         20.6       0.88           1   -4.13663   \n",
       "\n",
       "       latitude  day  month  \n",
       "0       52.4789    1      1  \n",
       "1       52.4789    2      1  \n",
       "2       52.4789    3      1  \n",
       "3       52.4789    4      1  \n",
       "4       52.4789    5      1  \n",
       "...         ...  ...    ...  \n",
       "82495   50.3762   10      7  \n",
       "82496   50.3762   11      7  \n",
       "82497   50.3762   12      7  \n",
       "82498   50.3762   13      7  \n",
       "82499   50.3762   14      7  \n",
       "\n",
       "[82498 rows x 22 columns]"
      ]
     },
     "execution_count": 18,
     "metadata": {},
     "output_type": "execute_result"
    },
    {
     "data": {
      "image/png": "[encoded data removed]",
      "text/plain": [
       "<Figure size 432x288 with 2 Axes>"
      ]
     },
     "metadata": {
      "needs_background": "light"
     },
     "output_type": "display_data"
    }
   ],
   "source": [
    "df = data.drop(['datetime', 'sunrise', 'sunset'], axis=1)\n",
    "\n",
    "label_encoder = LabelEncoder()\n",
    "df['conditions'] = label_encoder.fit_transform(df['conditions'])\n",
    "\n",
    "sns.heatmap(df.corr())\n",
    "df"
   ]
  },
  {
   "cell_type": "code",
   "execution_count": 19,
   "metadata": {
    "ExecuteTime": {
     "end_time": "2023-08-14T15:21:30.384332200Z",
     "start_time": "2023-08-14T15:21:30.344337200Z"
    }
   },
   "outputs": [
    {
     "name": "stdout",
     "output_type": "stream",
     "text": [
      "<class 'pandas.core.frame.DataFrame'>\n",
      "Int64Index: 82498 entries, 0 to 82499\n",
      "Data columns (total 22 columns):\n",
      " #   Column          Non-Null Count  Dtype  \n",
      "---  ------          --------------  -----  \n",
      " 0   city            82498 non-null  object \n",
      " 1   tempmax         82498 non-null  float64\n",
      " 2   tempmin         82498 non-null  float64\n",
      " 3   temp            82498 non-null  float64\n",
      " 4   feelslikemax    82498 non-null  float64\n",
      " 5   feelslikemin    82498 non-null  float64\n",
      " 6   feelslike       82498 non-null  float64\n",
      " 7   dew             82498 non-null  float64\n",
      " 8   humidity        82498 non-null  float64\n",
      " 9   windspeed       82498 non-null  float64\n",
      " 10  winddir         82498 non-null  float64\n",
      " 11  pressure        82498 non-null  float64\n",
      " 12  cloudcover      82498 non-null  float64\n",
      " 13  visibility      82498 non-null  float64\n",
      " 14  solarradiation  82498 non-null  float64\n",
      " 15  solarenergy     82498 non-null  float64\n",
      " 16  moonphase       82498 non-null  float64\n",
      " 17  conditions      82498 non-null  int32  \n",
      " 18  longitude       82498 non-null  float64\n",
      " 19  latitude        82498 non-null  float64\n",
      " 20  day             82498 non-null  int64  \n",
      " 21  month           82498 non-null  int64  \n",
      "dtypes: float64(18), int32(1), int64(2), object(1)\n",
      "memory usage: 14.2+ MB\n"
     ]
    }
   ],
   "source": [
    "df.info()"
   ]
  },
  {
   "cell_type": "code",
   "execution_count": 20,
   "metadata": {
    "ExecuteTime": {
     "end_time": "2023-07-11T14:10:05.250564300Z",
     "start_time": "2023-07-11T14:10:02.422873900Z"
    }
   },
   "outputs": [
    {
     "data": {
      "text/plain": [
       "'./imgs/fig_city.html'"
      ]
     },
     "execution_count": 20,
     "metadata": {},
     "output_type": "execute_result"
    }
   ],
   "source": [
    "import plotly.express as px\n",
    "import plotly\n",
    "fig_city = px.scatter_geo(data, lat='latitude', lon='longitude',\n",
    "                      hover_name=data['city'],\n",
    "                      scope=\"europe\",\n",
    "                      title ='Cities in this Dataset')\n",
    "plotly.offline.plot(fig_city,filename = './imgs/fig_city.html')"
   ]
  },
  {
   "cell_type": "code",
   "execution_count": 21,
   "metadata": {
    "ExecuteTime": {
     "end_time": "2023-07-11T14:10:07.333833200Z",
     "start_time": "2023-07-11T14:10:05.241566200Z"
    }
   },
   "outputs": [
    {
     "data": {
      "text/plain": [
       "'./imgs/fig_month.html'"
      ]
     },
     "execution_count": 21,
     "metadata": {},
     "output_type": "execute_result"
    }
   ],
   "source": [
    "import plotly.graph_objects as go\n",
    "\n",
    "df_grouped = data.groupby(['month', 'conditions']).size().reset_index(name='count')\n",
    "conditions = df_grouped['conditions'].unique()\n",
    "fig_month = fig = go.Figure()\n",
    "\n",
    "for condition in conditions:\n",
    "    _data = df_grouped[df_grouped['conditions'] == condition]\n",
    "    fig_month.add_trace(go.Bar(x=_data['month'], y=_data['count'], name=condition))\n",
    "\n",
    "\n",
    "fig_month.update_layout(\n",
    "    title='Weather Distribution by Month',\n",
    "    xaxis=dict(title='Month'),\n",
    "    yaxis=dict(title='Number of Days')\n",
    ")\n",
    "plotly.offline.plot(fig_month,filename = './imgs/fig_month.html')"
   ]
  },
  {
   "cell_type": "code",
   "execution_count": 22,
   "metadata": {
    "ExecuteTime": {
     "end_time": "2023-07-11T14:10:07.509409500Z",
     "start_time": "2023-07-11T14:10:07.342832900Z"
    }
   },
   "outputs": [
    {
     "data": {
      "text/plain": [
       "'./imgs/fig_city_condition.html'"
      ]
     },
     "execution_count": 22,
     "metadata": {},
     "output_type": "execute_result"
    }
   ],
   "source": [
    "import plotly.graph_objects as go\n",
    "\n",
    "df_grouped = data.groupby(['city', 'conditions']).size().reset_index(name='count')\n",
    "conditions = df_grouped['conditions'].unique()\n",
    "fig_city_condition = go.Figure()\n",
    "\n",
    "for condition in conditions:\n",
    "    _data = df_grouped[df_grouped['conditions'] == condition]\n",
    "    fig_city_condition.add_trace(go.Bar(x=_data['city'], y=_data['count'], name=condition))\n",
    "\n",
    "\n",
    "fig_city_condition.update_layout(\n",
    "    title='Weather Distribution by City',\n",
    "    xaxis=dict(title='city'),\n",
    "    yaxis=dict(title='Number of Days')\n",
    ")\n",
    "plotly.offline.plot(fig_city_condition,filename = './imgs/fig_city_condition.html')"
   ]
  },
  {
   "cell_type": "code",
   "execution_count": 23,
   "metadata": {
    "ExecuteTime": {
     "end_time": "2023-07-11T14:10:08.281226700Z",
     "start_time": "2023-07-11T14:10:07.509409500Z"
    }
   },
   "outputs": [
    {
     "data": {
      "text/plain": [
       "'./imgs/fig_rain.html'"
      ]
     },
     "execution_count": 23,
     "metadata": {},
     "output_type": "execute_result"
    }
   ],
   "source": [
    "df_grouped = data.groupby(['city', 'conditions', 'latitude', 'longitude']).size().reset_index(name='count')\n",
    "conditions = df_grouped['conditions'].unique()\n",
    "\n",
    "_data = df_grouped[df_grouped['conditions'] == 'Rain']\n",
    "\n",
    "fig_rain = px.scatter_geo(_data, lat='latitude', lon='longitude',\n",
    "                      color=\"count\",\n",
    "                      hover_name=_data['city'],\n",
    "                      color_continuous_scale='dense',\n",
    "                      scope=\"europe\",\n",
    "                      title ='City Wide Rainy Days Percentage Each Year from 2016 to 2022')\n",
    "plotly.offline.plot(fig_rain,filename = './imgs/fig_rain.html')"
   ]
  },
  {
   "cell_type": "code",
   "execution_count": 24,
   "metadata": {
    "ExecuteTime": {
     "end_time": "2023-07-11T14:10:08.929287800Z",
     "start_time": "2023-07-11T14:10:08.470293600Z"
    }
   },
   "outputs": [
    {
     "data": {
      "text/plain": [
       "'./imgs/fig_partially_cloudy.html'"
      ]
     },
     "execution_count": 24,
     "metadata": {},
     "output_type": "execute_result"
    }
   ],
   "source": [
    "_data = df_grouped[df_grouped['conditions'] == 'Partially cloudy']\n",
    "\n",
    "fig_rain = px.scatter_geo(_data, lat='latitude', lon='longitude',\n",
    "                      color=\"count\",\n",
    "                      hover_name=_data['city'],\n",
    "                      color_continuous_scale='dense',\n",
    "                      scope=\"europe\",\n",
    "                      title ='City Wide Rainy Days Percentage Each Year from 2016 to 2022')\n",
    "plotly.offline.plot(fig_rain,filename = './imgs/fig_partially_cloudy.html')"
   ]
  },
  {
   "cell_type": "code",
   "execution_count": 25,
   "metadata": {
    "ExecuteTime": {
     "end_time": "2023-07-11T14:10:09.584501700Z",
     "start_time": "2023-07-11T14:10:08.936283700Z"
    }
   },
   "outputs": [
    {
     "data": {
      "text/plain": [
       "'./imgs/fig_snow.html'"
      ]
     },
     "execution_count": 25,
     "metadata": {},
     "output_type": "execute_result"
    }
   ],
   "source": [
    "_data = df_grouped[df_grouped['conditions'] == 'Snow']\n",
    "\n",
    "fig_rain = px.scatter_geo(_data, lat='latitude', lon='longitude',\n",
    "                      color=\"count\",\n",
    "                      hover_name=_data['city'],\n",
    "                      color_continuous_scale='dense',\n",
    "                      scope=\"europe\",\n",
    "                      title ='City Wide Rainy Days Percentage Each Year from 2016 to 2022')\n",
    "plotly.offline.plot(fig_rain,filename = './imgs/fig_snow.html')"
   ]
  },
  {
   "cell_type": "code",
   "execution_count": 26,
   "metadata": {
    "ExecuteTime": {
     "end_time": "2023-07-11T14:10:10.137441Z",
     "start_time": "2023-07-11T14:10:09.600500900Z"
    }
   },
   "outputs": [
    {
     "data": {
      "text/plain": [
       "'./imgs/fig_clear.html'"
      ]
     },
     "execution_count": 26,
     "metadata": {},
     "output_type": "execute_result"
    }
   ],
   "source": [
    "_data = df_grouped[df_grouped['conditions'] == 'Clear']\n",
    "\n",
    "fig_rain = px.scatter_geo(_data, lat='latitude', lon='longitude',\n",
    "                      color=\"count\",\n",
    "                      hover_name=_data['city'],\n",
    "                      color_continuous_scale='dense',\n",
    "                      scope=\"europe\",\n",
    "                      title ='City Wide Rainy Days Percentage Each Year from 2016 to 2022')\n",
    "plotly.offline.plot(fig_rain,filename = './imgs/fig_clear.html')"
   ]
  },
  {
   "cell_type": "code",
   "execution_count": 20,
   "metadata": {
    "ExecuteTime": {
     "end_time": "2023-08-12T09:13:57.045786700Z",
     "start_time": "2023-08-12T09:13:56.844230100Z"
    }
   },
   "outputs": [
    {
     "name": "stdout",
     "output_type": "stream",
     "text": [
      "conditions        1.000000\n",
      "humidity          0.417665\n",
      "cloudcover        0.271322\n",
      "windspeed         0.149780\n",
      "winddir           0.112177\n",
      "latitude          0.095146\n",
      "month             0.025311\n",
      "moonphase        -0.007959\n",
      "day              -0.008131\n",
      "visibility       -0.063052\n",
      "pressure         -0.064456\n",
      "longitude        -0.086344\n",
      "dew              -0.098710\n",
      "tempmin          -0.152006\n",
      "feelslikemin     -0.170377\n",
      "feelslike        -0.258358\n",
      "temp             -0.259119\n",
      "solarenergy      -0.291884\n",
      "solarradiation   -0.292060\n",
      "feelslikemax     -0.315349\n",
      "tempmax          -0.322643\n",
      "Name: conditions, dtype: float64\n"
     ]
    }
   ],
   "source": [
    "correlation = df.corr()\n",
    "influence_order = correlation['conditions'].sort_values(ascending=False)\n",
    "print(influence_order)"
   ]
  },
  {
   "cell_type": "code",
   "execution_count": 21,
   "metadata": {
    "ExecuteTime": {
     "end_time": "2023-08-12T09:13:58.667082800Z",
     "start_time": "2023-08-12T09:13:58.409977500Z"
    }
   },
   "outputs": [
    {
     "name": "stdout",
     "output_type": "stream",
     "text": [
      "conditions        1.000000\n",
      "humidity          0.417665\n",
      "tempmax           0.322643\n",
      "feelslikemax      0.315349\n",
      "solarradiation    0.292060\n",
      "solarenergy       0.291884\n",
      "cloudcover        0.271322\n",
      "temp              0.259119\n",
      "feelslike         0.258358\n",
      "feelslikemin      0.170377\n",
      "tempmin           0.152006\n",
      "windspeed         0.149780\n",
      "winddir           0.112177\n",
      "dew               0.098710\n",
      "latitude          0.095146\n",
      "longitude         0.086344\n",
      "pressure          0.064456\n",
      "visibility        0.063052\n",
      "month             0.025311\n",
      "day               0.008131\n",
      "moonphase         0.007959\n",
      "Name: conditions, dtype: float64\n"
     ]
    }
   ],
   "source": [
    "influence_order_abs = abs(correlation['conditions']).sort_values(ascending=False)\n",
    "print(influence_order_abs)"
   ]
  },
  {
   "cell_type": "code",
   "execution_count": 22,
   "metadata": {
    "ExecuteTime": {
     "end_time": "2023-08-12T09:14:01.287501500Z",
     "start_time": "2023-08-12T09:14:01.103426700Z"
    }
   },
   "outputs": [
    {
     "data": {
      "text/html": [
       "<div>\n",
       "<style scoped>\n",
       "    .dataframe tbody tr th:only-of-type {\n",
       "        vertical-align: middle;\n",
       "    }\n",
       "\n",
       "    .dataframe tbody tr th {\n",
       "        vertical-align: top;\n",
       "    }\n",
       "\n",
       "    .dataframe thead th {\n",
       "        text-align: right;\n",
       "    }\n",
       "</style>\n",
       "<table border=\"1\" class=\"dataframe\">\n",
       "  <thead>\n",
       "    <tr style=\"text-align: right;\">\n",
       "      <th></th>\n",
       "      <th>city</th>\n",
       "      <th>datetime</th>\n",
       "      <th>tempmax</th>\n",
       "      <th>tempmin</th>\n",
       "      <th>temp</th>\n",
       "      <th>feelslikemax</th>\n",
       "      <th>feelslikemin</th>\n",
       "      <th>feelslike</th>\n",
       "      <th>dew</th>\n",
       "      <th>humidity</th>\n",
       "      <th>...</th>\n",
       "      <th>solarradiation</th>\n",
       "      <th>solarenergy</th>\n",
       "      <th>sunrise</th>\n",
       "      <th>sunset</th>\n",
       "      <th>moonphase</th>\n",
       "      <th>conditions</th>\n",
       "      <th>longitude</th>\n",
       "      <th>latitude</th>\n",
       "      <th>day</th>\n",
       "      <th>month</th>\n",
       "    </tr>\n",
       "  </thead>\n",
       "  <tbody>\n",
       "    <tr>\n",
       "      <th>0</th>\n",
       "      <td>Birmingham</td>\n",
       "      <td>2003-01-01</td>\n",
       "      <td>10.8</td>\n",
       "      <td>3.2</td>\n",
       "      <td>7.9</td>\n",
       "      <td>10.8</td>\n",
       "      <td>-1.0</td>\n",
       "      <td>5.7</td>\n",
       "      <td>7.2</td>\n",
       "      <td>95.4</td>\n",
       "      <td>...</td>\n",
       "      <td>26.05</td>\n",
       "      <td>2.2</td>\n",
       "      <td>08:18:24</td>\n",
       "      <td>16:03:53</td>\n",
       "      <td>0.95</td>\n",
       "      <td>Rain</td>\n",
       "      <td>-1.90592</td>\n",
       "      <td>52.4789</td>\n",
       "      <td>1</td>\n",
       "      <td>1</td>\n",
       "    </tr>\n",
       "    <tr>\n",
       "      <th>1</th>\n",
       "      <td>Birmingham</td>\n",
       "      <td>2003-01-02</td>\n",
       "      <td>8.1</td>\n",
       "      <td>6.1</td>\n",
       "      <td>7.3</td>\n",
       "      <td>7.0</td>\n",
       "      <td>4.6</td>\n",
       "      <td>5.6</td>\n",
       "      <td>6.2</td>\n",
       "      <td>93.2</td>\n",
       "      <td>...</td>\n",
       "      <td>26.05</td>\n",
       "      <td>2.2</td>\n",
       "      <td>08:18:15</td>\n",
       "      <td>16:04:59</td>\n",
       "      <td>0.00</td>\n",
       "      <td>Rain</td>\n",
       "      <td>-1.90592</td>\n",
       "      <td>52.4789</td>\n",
       "      <td>2</td>\n",
       "      <td>1</td>\n",
       "    </tr>\n",
       "    <tr>\n",
       "      <th>2</th>\n",
       "      <td>Birmingham</td>\n",
       "      <td>2003-01-03</td>\n",
       "      <td>5.3</td>\n",
       "      <td>-1.2</td>\n",
       "      <td>2.4</td>\n",
       "      <td>4.2</td>\n",
       "      <td>-5.0</td>\n",
       "      <td>-0.9</td>\n",
       "      <td>1.1</td>\n",
       "      <td>90.9</td>\n",
       "      <td>...</td>\n",
       "      <td>26.05</td>\n",
       "      <td>2.2</td>\n",
       "      <td>08:18:04</td>\n",
       "      <td>16:06:07</td>\n",
       "      <td>0.02</td>\n",
       "      <td>Snow</td>\n",
       "      <td>-1.90592</td>\n",
       "      <td>52.4789</td>\n",
       "      <td>3</td>\n",
       "      <td>1</td>\n",
       "    </tr>\n",
       "    <tr>\n",
       "      <th>3</th>\n",
       "      <td>Birmingham</td>\n",
       "      <td>2003-01-04</td>\n",
       "      <td>2.9</td>\n",
       "      <td>-2.1</td>\n",
       "      <td>0.2</td>\n",
       "      <td>-0.4</td>\n",
       "      <td>-5.8</td>\n",
       "      <td>-3.1</td>\n",
       "      <td>-1.5</td>\n",
       "      <td>88.7</td>\n",
       "      <td>...</td>\n",
       "      <td>26.05</td>\n",
       "      <td>2.2</td>\n",
       "      <td>08:17:49</td>\n",
       "      <td>16:07:18</td>\n",
       "      <td>0.05</td>\n",
       "      <td>Snow</td>\n",
       "      <td>-1.90592</td>\n",
       "      <td>52.4789</td>\n",
       "      <td>4</td>\n",
       "      <td>1</td>\n",
       "    </tr>\n",
       "    <tr>\n",
       "      <th>4</th>\n",
       "      <td>Birmingham</td>\n",
       "      <td>2003-01-05</td>\n",
       "      <td>2.8</td>\n",
       "      <td>-4.5</td>\n",
       "      <td>-1.4</td>\n",
       "      <td>1.8</td>\n",
       "      <td>-5.3</td>\n",
       "      <td>-2.0</td>\n",
       "      <td>-2.7</td>\n",
       "      <td>91.2</td>\n",
       "      <td>...</td>\n",
       "      <td>26.05</td>\n",
       "      <td>2.2</td>\n",
       "      <td>08:17:30</td>\n",
       "      <td>16:08:32</td>\n",
       "      <td>0.08</td>\n",
       "      <td>Rain</td>\n",
       "      <td>-1.90592</td>\n",
       "      <td>52.4789</td>\n",
       "      <td>5</td>\n",
       "      <td>1</td>\n",
       "    </tr>\n",
       "  </tbody>\n",
       "</table>\n",
       "<p>5 rows × 25 columns</p>\n",
       "</div>"
      ],
      "text/plain": [
       "         city   datetime  tempmax  tempmin  temp  feelslikemax  feelslikemin  \\\n",
       "0  Birmingham 2003-01-01     10.8      3.2   7.9          10.8          -1.0   \n",
       "1  Birmingham 2003-01-02      8.1      6.1   7.3           7.0           4.6   \n",
       "2  Birmingham 2003-01-03      5.3     -1.2   2.4           4.2          -5.0   \n",
       "3  Birmingham 2003-01-04      2.9     -2.1   0.2          -0.4          -5.8   \n",
       "4  Birmingham 2003-01-05      2.8     -4.5  -1.4           1.8          -5.3   \n",
       "\n",
       "   feelslike  dew  humidity  ...  solarradiation  solarenergy   sunrise  \\\n",
       "0        5.7  7.2      95.4  ...           26.05          2.2  08:18:24   \n",
       "1        5.6  6.2      93.2  ...           26.05          2.2  08:18:15   \n",
       "2       -0.9  1.1      90.9  ...           26.05          2.2  08:18:04   \n",
       "3       -3.1 -1.5      88.7  ...           26.05          2.2  08:17:49   \n",
       "4       -2.0 -2.7      91.2  ...           26.05          2.2  08:17:30   \n",
       "\n",
       "     sunset  moonphase  conditions  longitude latitude day  month  \n",
       "0  16:03:53       0.95        Rain   -1.90592  52.4789   1      1  \n",
       "1  16:04:59       0.00        Rain   -1.90592  52.4789   2      1  \n",
       "2  16:06:07       0.02        Snow   -1.90592  52.4789   3      1  \n",
       "3  16:07:18       0.05        Snow   -1.90592  52.4789   4      1  \n",
       "4  16:08:32       0.08        Rain   -1.90592  52.4789   5      1  \n",
       "\n",
       "[5 rows x 25 columns]"
      ]
     },
     "execution_count": 22,
     "metadata": {},
     "output_type": "execute_result"
    }
   ],
   "source": [
    "data.head()"
   ]
  },
  {
   "cell_type": "code",
   "execution_count": 20,
   "metadata": {
    "ExecuteTime": {
     "end_time": "2023-08-14T15:26:11.553472400Z",
     "start_time": "2023-08-14T15:26:11.435546700Z"
    }
   },
   "outputs": [
    {
     "data": {
      "text/html": [
       "<div>\n",
       "<style scoped>\n",
       "    .dataframe tbody tr th:only-of-type {\n",
       "        vertical-align: middle;\n",
       "    }\n",
       "\n",
       "    .dataframe tbody tr th {\n",
       "        vertical-align: top;\n",
       "    }\n",
       "\n",
       "    .dataframe thead th {\n",
       "        text-align: right;\n",
       "    }\n",
       "</style>\n",
       "<table border=\"1\" class=\"dataframe\">\n",
       "  <thead>\n",
       "    <tr style=\"text-align: right;\">\n",
       "      <th></th>\n",
       "      <th>tempmax</th>\n",
       "      <th>tempmin</th>\n",
       "      <th>temp</th>\n",
       "      <th>feelslikemax</th>\n",
       "      <th>feelslikemin</th>\n",
       "      <th>feelslike</th>\n",
       "      <th>dew</th>\n",
       "      <th>humidity</th>\n",
       "      <th>windspeed</th>\n",
       "      <th>winddir</th>\n",
       "      <th>pressure</th>\n",
       "      <th>cloudcover</th>\n",
       "      <th>visibility</th>\n",
       "      <th>solarradiation</th>\n",
       "      <th>solarenergy</th>\n",
       "      <th>longitude</th>\n",
       "      <th>latitude</th>\n",
       "      <th>month</th>\n",
       "    </tr>\n",
       "  </thead>\n",
       "  <tbody>\n",
       "    <tr>\n",
       "      <th>0</th>\n",
       "      <td>10.8</td>\n",
       "      <td>3.2</td>\n",
       "      <td>7.9</td>\n",
       "      <td>10.8</td>\n",
       "      <td>-1.0</td>\n",
       "      <td>5.7</td>\n",
       "      <td>7.2</td>\n",
       "      <td>95.4</td>\n",
       "      <td>24.8</td>\n",
       "      <td>171.6</td>\n",
       "      <td>993.2</td>\n",
       "      <td>88.7</td>\n",
       "      <td>9.6</td>\n",
       "      <td>26.05</td>\n",
       "      <td>2.2</td>\n",
       "      <td>-1.90592</td>\n",
       "      <td>52.4789</td>\n",
       "      <td>1</td>\n",
       "    </tr>\n",
       "    <tr>\n",
       "      <th>1</th>\n",
       "      <td>8.1</td>\n",
       "      <td>6.1</td>\n",
       "      <td>7.3</td>\n",
       "      <td>7.0</td>\n",
       "      <td>4.6</td>\n",
       "      <td>5.6</td>\n",
       "      <td>6.2</td>\n",
       "      <td>93.2</td>\n",
       "      <td>17.9</td>\n",
       "      <td>240.6</td>\n",
       "      <td>985.5</td>\n",
       "      <td>82.2</td>\n",
       "      <td>11.0</td>\n",
       "      <td>26.05</td>\n",
       "      <td>2.2</td>\n",
       "      <td>-1.90592</td>\n",
       "      <td>52.4789</td>\n",
       "      <td>1</td>\n",
       "    </tr>\n",
       "    <tr>\n",
       "      <th>2</th>\n",
       "      <td>5.3</td>\n",
       "      <td>-1.2</td>\n",
       "      <td>2.4</td>\n",
       "      <td>4.2</td>\n",
       "      <td>-5.0</td>\n",
       "      <td>-0.9</td>\n",
       "      <td>1.1</td>\n",
       "      <td>90.9</td>\n",
       "      <td>20.6</td>\n",
       "      <td>13.5</td>\n",
       "      <td>998.6</td>\n",
       "      <td>85.6</td>\n",
       "      <td>10.3</td>\n",
       "      <td>26.05</td>\n",
       "      <td>2.2</td>\n",
       "      <td>-1.90592</td>\n",
       "      <td>52.4789</td>\n",
       "      <td>1</td>\n",
       "    </tr>\n",
       "    <tr>\n",
       "      <th>3</th>\n",
       "      <td>2.9</td>\n",
       "      <td>-2.1</td>\n",
       "      <td>0.2</td>\n",
       "      <td>-0.4</td>\n",
       "      <td>-5.8</td>\n",
       "      <td>-3.1</td>\n",
       "      <td>-1.5</td>\n",
       "      <td>88.7</td>\n",
       "      <td>15.7</td>\n",
       "      <td>339.5</td>\n",
       "      <td>1014.5</td>\n",
       "      <td>41.2</td>\n",
       "      <td>10.6</td>\n",
       "      <td>26.05</td>\n",
       "      <td>2.2</td>\n",
       "      <td>-1.90592</td>\n",
       "      <td>52.4789</td>\n",
       "      <td>1</td>\n",
       "    </tr>\n",
       "    <tr>\n",
       "      <th>4</th>\n",
       "      <td>2.8</td>\n",
       "      <td>-4.5</td>\n",
       "      <td>-1.4</td>\n",
       "      <td>1.8</td>\n",
       "      <td>-5.3</td>\n",
       "      <td>-2.0</td>\n",
       "      <td>-2.7</td>\n",
       "      <td>91.2</td>\n",
       "      <td>7.9</td>\n",
       "      <td>332.0</td>\n",
       "      <td>1015.9</td>\n",
       "      <td>19.2</td>\n",
       "      <td>8.2</td>\n",
       "      <td>26.05</td>\n",
       "      <td>2.2</td>\n",
       "      <td>-1.90592</td>\n",
       "      <td>52.4789</td>\n",
       "      <td>1</td>\n",
       "    </tr>\n",
       "    <tr>\n",
       "      <th>...</th>\n",
       "      <td>...</td>\n",
       "      <td>...</td>\n",
       "      <td>...</td>\n",
       "      <td>...</td>\n",
       "      <td>...</td>\n",
       "      <td>...</td>\n",
       "      <td>...</td>\n",
       "      <td>...</td>\n",
       "      <td>...</td>\n",
       "      <td>...</td>\n",
       "      <td>...</td>\n",
       "      <td>...</td>\n",
       "      <td>...</td>\n",
       "      <td>...</td>\n",
       "      <td>...</td>\n",
       "      <td>...</td>\n",
       "      <td>...</td>\n",
       "      <td>...</td>\n",
       "    </tr>\n",
       "    <tr>\n",
       "      <th>82495</th>\n",
       "      <td>18.1</td>\n",
       "      <td>13.1</td>\n",
       "      <td>15.5</td>\n",
       "      <td>18.1</td>\n",
       "      <td>13.1</td>\n",
       "      <td>15.5</td>\n",
       "      <td>13.3</td>\n",
       "      <td>87.0</td>\n",
       "      <td>29.9</td>\n",
       "      <td>196.3</td>\n",
       "      <td>1013.5</td>\n",
       "      <td>89.7</td>\n",
       "      <td>19.4</td>\n",
       "      <td>287.00</td>\n",
       "      <td>24.6</td>\n",
       "      <td>-4.13663</td>\n",
       "      <td>50.3762</td>\n",
       "      <td>7</td>\n",
       "    </tr>\n",
       "    <tr>\n",
       "      <th>82496</th>\n",
       "      <td>17.9</td>\n",
       "      <td>13.8</td>\n",
       "      <td>15.4</td>\n",
       "      <td>17.9</td>\n",
       "      <td>13.8</td>\n",
       "      <td>15.4</td>\n",
       "      <td>13.4</td>\n",
       "      <td>88.0</td>\n",
       "      <td>28.4</td>\n",
       "      <td>229.9</td>\n",
       "      <td>1006.9</td>\n",
       "      <td>88.5</td>\n",
       "      <td>19.9</td>\n",
       "      <td>238.80</td>\n",
       "      <td>20.5</td>\n",
       "      <td>-4.13663</td>\n",
       "      <td>50.3762</td>\n",
       "      <td>7</td>\n",
       "    </tr>\n",
       "    <tr>\n",
       "      <th>82497</th>\n",
       "      <td>18.8</td>\n",
       "      <td>12.6</td>\n",
       "      <td>15.6</td>\n",
       "      <td>18.8</td>\n",
       "      <td>12.6</td>\n",
       "      <td>15.6</td>\n",
       "      <td>11.6</td>\n",
       "      <td>77.9</td>\n",
       "      <td>30.2</td>\n",
       "      <td>277.4</td>\n",
       "      <td>1012.7</td>\n",
       "      <td>52.1</td>\n",
       "      <td>22.5</td>\n",
       "      <td>311.00</td>\n",
       "      <td>26.6</td>\n",
       "      <td>-4.13663</td>\n",
       "      <td>50.3762</td>\n",
       "      <td>7</td>\n",
       "    </tr>\n",
       "    <tr>\n",
       "      <th>82498</th>\n",
       "      <td>18.7</td>\n",
       "      <td>13.3</td>\n",
       "      <td>15.9</td>\n",
       "      <td>18.7</td>\n",
       "      <td>13.3</td>\n",
       "      <td>15.9</td>\n",
       "      <td>13.9</td>\n",
       "      <td>88.2</td>\n",
       "      <td>22.0</td>\n",
       "      <td>208.3</td>\n",
       "      <td>1014.9</td>\n",
       "      <td>90.4</td>\n",
       "      <td>16.0</td>\n",
       "      <td>132.80</td>\n",
       "      <td>11.5</td>\n",
       "      <td>-4.13663</td>\n",
       "      <td>50.3762</td>\n",
       "      <td>7</td>\n",
       "    </tr>\n",
       "    <tr>\n",
       "      <th>82499</th>\n",
       "      <td>20.7</td>\n",
       "      <td>16.4</td>\n",
       "      <td>18.1</td>\n",
       "      <td>20.7</td>\n",
       "      <td>16.4</td>\n",
       "      <td>18.1</td>\n",
       "      <td>16.3</td>\n",
       "      <td>89.8</td>\n",
       "      <td>34.2</td>\n",
       "      <td>190.4</td>\n",
       "      <td>1010.5</td>\n",
       "      <td>93.0</td>\n",
       "      <td>15.7</td>\n",
       "      <td>237.20</td>\n",
       "      <td>20.6</td>\n",
       "      <td>-4.13663</td>\n",
       "      <td>50.3762</td>\n",
       "      <td>7</td>\n",
       "    </tr>\n",
       "  </tbody>\n",
       "</table>\n",
       "<p>82498 rows × 18 columns</p>\n",
       "</div>"
      ],
      "text/plain": [
       "       tempmax  tempmin  temp  feelslikemax  feelslikemin  feelslike   dew  \\\n",
       "0         10.8      3.2   7.9          10.8          -1.0        5.7   7.2   \n",
       "1          8.1      6.1   7.3           7.0           4.6        5.6   6.2   \n",
       "2          5.3     -1.2   2.4           4.2          -5.0       -0.9   1.1   \n",
       "3          2.9     -2.1   0.2          -0.4          -5.8       -3.1  -1.5   \n",
       "4          2.8     -4.5  -1.4           1.8          -5.3       -2.0  -2.7   \n",
       "...        ...      ...   ...           ...           ...        ...   ...   \n",
       "82495     18.1     13.1  15.5          18.1          13.1       15.5  13.3   \n",
       "82496     17.9     13.8  15.4          17.9          13.8       15.4  13.4   \n",
       "82497     18.8     12.6  15.6          18.8          12.6       15.6  11.6   \n",
       "82498     18.7     13.3  15.9          18.7          13.3       15.9  13.9   \n",
       "82499     20.7     16.4  18.1          20.7          16.4       18.1  16.3   \n",
       "\n",
       "       humidity  windspeed  winddir  pressure  cloudcover  visibility  \\\n",
       "0          95.4       24.8    171.6     993.2        88.7         9.6   \n",
       "1          93.2       17.9    240.6     985.5        82.2        11.0   \n",
       "2          90.9       20.6     13.5     998.6        85.6        10.3   \n",
       "3          88.7       15.7    339.5    1014.5        41.2        10.6   \n",
       "4          91.2        7.9    332.0    1015.9        19.2         8.2   \n",
       "...         ...        ...      ...       ...         ...         ...   \n",
       "82495      87.0       29.9    196.3    1013.5        89.7        19.4   \n",
       "82496      88.0       28.4    229.9    1006.9        88.5        19.9   \n",
       "82497      77.9       30.2    277.4    1012.7        52.1        22.5   \n",
       "82498      88.2       22.0    208.3    1014.9        90.4        16.0   \n",
       "82499      89.8       34.2    190.4    1010.5        93.0        15.7   \n",
       "\n",
       "       solarradiation  solarenergy  longitude  latitude  month  \n",
       "0               26.05          2.2   -1.90592   52.4789      1  \n",
       "1               26.05          2.2   -1.90592   52.4789      1  \n",
       "2               26.05          2.2   -1.90592   52.4789      1  \n",
       "3               26.05          2.2   -1.90592   52.4789      1  \n",
       "4               26.05          2.2   -1.90592   52.4789      1  \n",
       "...               ...          ...        ...       ...    ...  \n",
       "82495          287.00         24.6   -4.13663   50.3762      7  \n",
       "82496          238.80         20.5   -4.13663   50.3762      7  \n",
       "82497          311.00         26.6   -4.13663   50.3762      7  \n",
       "82498          132.80         11.5   -4.13663   50.3762      7  \n",
       "82499          237.20         20.6   -4.13663   50.3762      7  \n",
       "\n",
       "[82498 rows x 18 columns]"
      ]
     },
     "execution_count": 20,
     "metadata": {},
     "output_type": "execute_result"
    }
   ],
   "source": [
    "X = df.drop(['conditions', 'city', 'day', 'moonphase'], axis=1)\n",
    "y = df['conditions']  # weather condition\n",
    "X"
   ]
  },
  {
   "cell_type": "code",
   "execution_count": 43,
   "metadata": {
    "ExecuteTime": {
     "end_time": "2023-08-14T16:06:35.514589100Z",
     "start_time": "2023-08-14T16:06:35.425586900Z"
    }
   },
   "outputs": [],
   "source": [
    "X_train, X_test, y_train, y_test = train_test_split(X, y, test_size=0.2, random_state=36)"
   ]
  },
  {
   "cell_type": "code",
   "execution_count": 44,
   "metadata": {
    "ExecuteTime": {
     "end_time": "2023-08-14T16:06:36.482967500Z",
     "start_time": "2023-08-14T16:06:36.337441800Z"
    }
   },
   "outputs": [
    {
     "data": {
      "text/plain": [
       "array([[-1.10759163, -1.00192273, -1.15480748, ..., -0.09453785,\n",
       "         0.47996317, -0.70837644],\n",
       "       [-1.12474585, -1.02215028, -1.23262641, ..., -0.81270409,\n",
       "         2.01534055,  1.61270081],\n",
       "       [ 0.98522323,  1.12197015,  1.02412254, ..., -1.51767091,\n",
       "        -1.44540056, -0.41824178],\n",
       "       ...,\n",
       "       [-0.55865659, -0.31418599, -0.39607292, ..., -0.61282818,\n",
       "         1.3590145 , -1.28864575],\n",
       "       [ 0.76221837,  0.73764667,  0.81012049, ..., -1.06052308,\n",
       "        -1.23222953,  0.16202753],\n",
       "       [-0.67873613, -1.73011458, -1.17426221, ...,  1.6847535 ,\n",
       "        -0.30776459, -0.99851109]])"
      ]
     },
     "execution_count": 44,
     "metadata": {},
     "output_type": "execute_result"
    }
   ],
   "source": [
    "scaler = StandardScaler()\n",
    "X_train_scaled = scaler.fit_transform(X_train)\n",
    "X_test_scaled = scaler.transform(X_test)\n",
    "X_test_scaled"
   ]
  },
  {
   "cell_type": "code",
   "execution_count": 23,
   "metadata": {
    "ExecuteTime": {
     "end_time": "2023-08-13T15:19:30.196048400Z",
     "start_time": "2023-08-13T15:19:30.098532400Z"
    }
   },
   "outputs": [
    {
     "data": {
      "text/plain": [
       "array([0.29132402, 0.93527953, 0.29132402, ..., 0.29132402, 0.29132402,\n",
       "       8.782169  ])"
      ]
     },
     "execution_count": 23,
     "metadata": {},
     "output_type": "execute_result"
    }
   ],
   "source": [
    "from sklearn.utils import class_weight\n",
    "sw = class_weight.compute_sample_weight(class_weight='balanced',y=y_train)\n",
    "sw"
   ]
  },
  {
   "cell_type": "code",
   "execution_count": 45,
   "metadata": {
    "ExecuteTime": {
     "end_time": "2023-08-14T16:06:40.205553Z",
     "start_time": "2023-08-14T16:06:40.158325400Z"
    }
   },
   "outputs": [],
   "source": [
    "y_train_one_hot = to_categorical(y_train, len(label_encoder.classes_))\n",
    "y_test_one_hot = to_categorical(y_test, len(label_encoder.classes_))"
   ]
  },
  {
   "cell_type": "code",
   "execution_count": 34,
   "metadata": {
    "ExecuteTime": {
     "end_time": "2023-07-11T14:11:41.743356800Z",
     "start_time": "2023-07-11T14:10:10.797550300Z"
    }
   },
   "outputs": [
    {
     "name": "stdout",
     "output_type": "stream",
     "text": [
      "Iteration 1, loss = 1.28107380\n",
      "Iteration 2, loss = 0.96895174\n",
      "Iteration 3, loss = 0.91064457\n",
      "Iteration 4, loss = 0.88808489\n",
      "Iteration 5, loss = 0.87108914\n",
      "Iteration 6, loss = 0.86257725\n",
      "Iteration 7, loss = 0.86136712\n",
      "Iteration 8, loss = 0.85200923\n",
      "Iteration 9, loss = 0.84335805\n",
      "Iteration 10, loss = 0.83905466\n",
      "Iteration 11, loss = 0.83454520\n",
      "Iteration 12, loss = 0.83579786\n",
      "Iteration 13, loss = 0.82876237\n",
      "Iteration 14, loss = 0.83154770\n",
      "Iteration 15, loss = 0.81922496\n",
      "Iteration 16, loss = 0.82794636\n",
      "Iteration 17, loss = 0.81520916\n",
      "Iteration 18, loss = 0.81270120\n",
      "Iteration 19, loss = 0.81374043\n",
      "Iteration 20, loss = 0.80885601\n",
      "Iteration 21, loss = 0.80823514\n",
      "Iteration 22, loss = 0.80903125\n",
      "Iteration 23, loss = 0.80485900\n",
      "Iteration 24, loss = 0.80451220\n",
      "Iteration 25, loss = 0.79955001\n",
      "Iteration 26, loss = 0.79747138\n",
      "Iteration 27, loss = 0.79351269\n",
      "Iteration 28, loss = 0.79772246\n",
      "Iteration 29, loss = 0.79652483\n",
      "Iteration 30, loss = 0.79057629\n",
      "Iteration 31, loss = 0.79039555\n",
      "Iteration 32, loss = 0.78844593\n",
      "Iteration 33, loss = 0.78787727\n",
      "Iteration 34, loss = 0.78296042\n",
      "Iteration 35, loss = 0.78625547\n",
      "Iteration 36, loss = 0.77962386\n",
      "Iteration 37, loss = 0.77698257\n",
      "Iteration 38, loss = 0.77782990\n",
      "Iteration 39, loss = 0.78313612\n",
      "Iteration 40, loss = 0.77214505\n",
      "Iteration 41, loss = 0.77336763\n",
      "Iteration 42, loss = 0.77158892\n",
      "Iteration 43, loss = 0.77370296\n",
      "Iteration 44, loss = 0.76707815\n",
      "Iteration 45, loss = 0.76972989\n",
      "Iteration 46, loss = 0.76407872\n",
      "Iteration 47, loss = 0.76687303\n",
      "Iteration 48, loss = 0.76210188\n",
      "Iteration 49, loss = 0.76190082\n",
      "Iteration 50, loss = 0.76276321\n",
      "Iteration 51, loss = 0.75972912\n",
      "Iteration 52, loss = 0.75946774\n",
      "Iteration 53, loss = 0.76129270\n",
      "Iteration 54, loss = 0.75712372\n",
      "Iteration 55, loss = 0.75474065\n",
      "Iteration 56, loss = 0.75262369\n",
      "Iteration 57, loss = 0.75182297\n",
      "Iteration 58, loss = 0.75221655\n",
      "Iteration 59, loss = 0.74809124\n",
      "Iteration 60, loss = 0.75167764\n",
      "Iteration 61, loss = 0.74539793\n",
      "Iteration 62, loss = 0.75104505\n",
      "Iteration 63, loss = 0.75802231\n",
      "Iteration 64, loss = 0.74374683\n",
      "Iteration 65, loss = 0.74509124\n",
      "Iteration 66, loss = 0.74301475\n",
      "Iteration 67, loss = 0.74230006\n",
      "Iteration 68, loss = 0.74160670\n",
      "Iteration 69, loss = 0.73745839\n",
      "Iteration 70, loss = 0.74159877\n",
      "Iteration 71, loss = 0.73971081\n",
      "Iteration 72, loss = 0.73532056\n",
      "Iteration 73, loss = 0.73148002\n",
      "Iteration 74, loss = 0.73354501\n",
      "Iteration 75, loss = 0.73105639\n",
      "Iteration 76, loss = 0.73712492\n",
      "Iteration 77, loss = 0.73179981\n",
      "Iteration 78, loss = 0.72827455\n",
      "Iteration 79, loss = 0.72891932\n",
      "Iteration 80, loss = 0.73065554\n",
      "Iteration 81, loss = 0.72135265\n",
      "Iteration 82, loss = 0.73302956\n",
      "Iteration 83, loss = 0.73046128\n",
      "Iteration 84, loss = 0.72597000\n",
      "Iteration 85, loss = 0.72643275\n",
      "Iteration 86, loss = 0.72116519\n",
      "Iteration 87, loss = 0.71946229\n",
      "Iteration 88, loss = 0.71583417\n",
      "Iteration 89, loss = 0.72138430\n",
      "Iteration 90, loss = 0.71353982\n",
      "Iteration 91, loss = 0.70978050\n",
      "Iteration 92, loss = 0.71162322\n",
      "Iteration 93, loss = 0.71144878\n",
      "Iteration 94, loss = 0.71252865\n",
      "Iteration 95, loss = 0.71266143\n",
      "Iteration 96, loss = 0.71079380\n",
      "Iteration 97, loss = 0.71267305\n",
      "Iteration 98, loss = 0.70966520\n",
      "Iteration 99, loss = 0.70861587\n",
      "Iteration 100, loss = 0.71113921\n",
      "Iteration 101, loss = 0.70958334\n",
      "Iteration 102, loss = 0.70859327\n",
      "Iteration 103, loss = 0.70353540\n",
      "Iteration 104, loss = 0.70134438\n",
      "Iteration 105, loss = 0.70121756\n",
      "Iteration 106, loss = 0.70347256\n"
     ]
    },
    {
     "name": "stderr",
     "output_type": "stream",
     "text": [
      "c:\\programdata\\miniconda3\\lib\\site-packages\\sklearn\\neural_network\\_multilayer_perceptron.py:573: UserWarning:\n",
      "\n",
      "Training interrupted by user.\n",
      "\n"
     ]
    },
    {
     "data": {
      "text/plain": [
       "MLPClassifier(activation='relu', alpha=0.0001, batch_size=1024, beta_1=0.9,\n",
       "              beta_2=0.999, early_stopping=False, epsilon=1e-08,\n",
       "              hidden_layer_sizes=(128, 64, 32), learning_rate='constant',\n",
       "              learning_rate_init=0.01, max_fun=15000, max_iter=1000,\n",
       "              momentum=0.9, n_iter_no_change=10, nesterovs_momentum=True,\n",
       "              power_t=0.5, random_state=42, shuffle=True, solver='adam',\n",
       "              tol=0.0001, validation_fraction=0.1, verbose=True,\n",
       "              warm_start=False)"
      ]
     },
     "execution_count": 34,
     "metadata": {},
     "output_type": "execute_result"
    }
   ],
   "source": [
    "model = MLPClassifier(\n",
    "\n",
    "                    batch_size=1024,\n",
    "                    hidden_layer_sizes=(128, 64, 32),\n",
    "                    random_state=42,\n",
    "                    verbose=True,\n",
    "                    learning_rate_init=0.01,\n",
    "                    max_iter=1000,\n",
    "                    activation='relu')  \n",
    "model.fit(X_train_scaled, y_train_one_hot)"
   ]
  },
  {
   "cell_type": "code",
   "execution_count": 35,
   "metadata": {
    "ExecuteTime": {
     "end_time": "2023-07-11T14:11:41.884019300Z",
     "start_time": "2023-07-11T14:11:41.744359600Z"
    }
   },
   "outputs": [
    {
     "name": "stdout",
     "output_type": "stream",
     "text": [
      "[[0 0 0 1 0]\n",
      " [0 0 0 1 0]\n",
      " [0 0 0 1 0]\n",
      " ...\n",
      " [0 0 0 1 0]\n",
      " [0 0 0 1 0]\n",
      " [0 0 0 1 0]]\n",
      "准确率： 0.772\n"
     ]
    }
   ],
   "source": [
    "y_pred = model.predict(X_test_scaled)\n",
    "accuracy = accuracy_score(y_test_one_hot, y_pred)\n",
    "print(y_pred)\n",
    "print(\"accuracy：\", accuracy)"
   ]
  },
  {
   "cell_type": "code",
   "execution_count": 24,
   "metadata": {
    "ExecuteTime": {
     "end_time": "2023-08-14T15:26:24.816212200Z",
     "start_time": "2023-08-14T15:26:24.739701300Z"
    }
   },
   "outputs": [],
   "source": [
    "import keras\n",
    "from keras import backend as K\n",
    "\n",
    "def precision(y_true, y_pred):\n",
    "    # Calculates the precision\n",
    "    true_positives = K.sum(K.round(K.clip(y_true * y_pred, 0, 1)))\n",
    "    predicted_positives = K.sum(K.round(K.clip(y_pred, 0, 1)))\n",
    "    precision = true_positives / (predicted_positives + K.epsilon())\n",
    "    return precision\n",
    "\n",
    "def recall(y_true, y_pred):\n",
    "    # Calculates the recall\n",
    "    true_positives = K.sum(K.round(K.clip(y_true * y_pred, 0, 1)))\n",
    "    possible_positives = K.sum(K.round(K.clip(y_true, 0, 1)))\n",
    "    recall = true_positives / (possible_positives + K.epsilon())\n",
    "    return recall\n",
    "\n",
    "def fbeta_score(y_true, y_pred, beta=1):\n",
    "    # Calculates the F score, the weighted harmonic mean of precision and recall.\n",
    "    if beta < 0:\n",
    "        raise ValueError('The lowest choosable beta is zero (only precision).')\n",
    "\n",
    "    # If there are no true positives, fix the F score at 0 like sklearn.\n",
    "    if K.sum(K.round(K.clip(y_true, 0, 1))) == 0:\n",
    "        return 0\n",
    "\n",
    "    p = precision(y_true, y_pred)\n",
    "    r = recall(y_true, y_pred)\n",
    "    bb = beta ** 2\n",
    "    fbeta_score = (1 + bb) * (p * r) / (bb * p + r + K.epsilon())\n",
    "    return fbeta_score\n",
    "\n",
    "def fmeasure(y_true, y_pred):\n",
    "    # Calculates the f-measure, the harmonic mean of precision and recall.\n",
    "    return fbeta_score(y_true, y_pred, beta=1)"
   ]
  },
  {
   "cell_type": "code",
   "execution_count": 25,
   "metadata": {
    "ExecuteTime": {
     "end_time": "2023-08-13T15:20:35.264125500Z",
     "start_time": "2023-08-13T15:19:54.641232300Z"
    }
   },
   "outputs": [
    {
     "name": "stdout",
     "output_type": "stream",
     "text": [
      "Epoch 1/1000\n",
      "WARNING:tensorflow:From c:\\programdata\\miniconda3\\lib\\site-packages\\tensorflow\\python\\ops\\summary_ops_v2.py:1277: stop (from tensorflow.python.eager.profiler) is deprecated and will be removed after 2020-07-01.\n",
      "Instructions for updating:\n",
      "use `tf.profiler.experimental.stop` instead.\n",
      "WARNING:tensorflow:Callbacks method `on_train_batch_end` is slow compared to the batch time (batch time: 0.0030s vs `on_train_batch_end` time: 0.2411s). Check your callbacks.\n",
      "\n",
      "Epoch 00001: val_accuracy improved from -inf to 0.75864, saving model to ./models\\weights-improvement-01-0.76.hdf5\n",
      "207/207 - 1s - loss: 0.7604 - accuracy: 0.7113 - val_loss: 0.5893 - val_accuracy: 0.7586\n",
      "Epoch 2/1000\n",
      "\n",
      "Epoch 00002: val_accuracy improved from 0.75864 to 0.76833, saving model to ./models\\weights-improvement-02-0.77.hdf5\n",
      "207/207 - 1s - loss: 0.6283 - accuracy: 0.7424 - val_loss: 0.5515 - val_accuracy: 0.7683\n",
      "Epoch 3/1000\n",
      "\n",
      "Epoch 00003: val_accuracy improved from 0.76833 to 0.76871, saving model to ./models\\weights-improvement-03-0.77.hdf5\n",
      "207/207 - 1s - loss: 0.5944 - accuracy: 0.7530 - val_loss: 0.5374 - val_accuracy: 0.7687\n",
      "Epoch 4/1000\n",
      "\n",
      "Epoch 00004: val_accuracy improved from 0.76871 to 0.77492, saving model to ./models\\weights-improvement-04-0.77.hdf5\n",
      "207/207 - 1s - loss: 0.5727 - accuracy: 0.7578 - val_loss: 0.5241 - val_accuracy: 0.7749\n",
      "Epoch 5/1000\n",
      "\n",
      "Epoch 00005: val_accuracy improved from 0.77492 to 0.78227, saving model to ./models\\weights-improvement-05-0.78.hdf5\n",
      "207/207 - 1s - loss: 0.5574 - accuracy: 0.7630 - val_loss: 0.5128 - val_accuracy: 0.7823\n",
      "Epoch 6/1000\n",
      "\n",
      "Epoch 00006: val_accuracy improved from 0.78227 to 0.78318, saving model to ./models\\weights-improvement-06-0.78.hdf5\n",
      "207/207 - 1s - loss: 0.5445 - accuracy: 0.7681 - val_loss: 0.5027 - val_accuracy: 0.7832\n",
      "Epoch 7/1000\n",
      "\n",
      "Epoch 00007: val_accuracy did not improve from 0.78318\n",
      "207/207 - 1s - loss: 0.5355 - accuracy: 0.7706 - val_loss: 0.4950 - val_accuracy: 0.7829\n",
      "Epoch 8/1000\n",
      "\n",
      "Epoch 00008: val_accuracy improved from 0.78318 to 0.78659, saving model to ./models\\weights-improvement-08-0.79.hdf5\n",
      "207/207 - 1s - loss: 0.5244 - accuracy: 0.7725 - val_loss: 0.4943 - val_accuracy: 0.7866\n",
      "Epoch 9/1000\n",
      "\n",
      "Epoch 00009: val_accuracy improved from 0.78659 to 0.79061, saving model to ./models\\weights-improvement-09-0.79.hdf5\n",
      "207/207 - 1s - loss: 0.5165 - accuracy: 0.7752 - val_loss: 0.4806 - val_accuracy: 0.7906\n",
      "Epoch 10/1000\n",
      "\n",
      "Epoch 00010: val_accuracy did not improve from 0.79061\n",
      "207/207 - 1s - loss: 0.5069 - accuracy: 0.7778 - val_loss: 0.4815 - val_accuracy: 0.7891\n",
      "Epoch 11/1000\n",
      "\n",
      "Epoch 00011: val_accuracy improved from 0.79061 to 0.79129, saving model to ./models\\weights-improvement-11-0.79.hdf5\n",
      "207/207 - 1s - loss: 0.5034 - accuracy: 0.7780 - val_loss: 0.4687 - val_accuracy: 0.7913\n",
      "Epoch 12/1000\n",
      "\n",
      "Epoch 00012: val_accuracy improved from 0.79129 to 0.79159, saving model to ./models\\weights-improvement-12-0.79.hdf5\n",
      "207/207 - 1s - loss: 0.4939 - accuracy: 0.7810 - val_loss: 0.4666 - val_accuracy: 0.7916\n",
      "Epoch 13/1000\n",
      "\n",
      "Epoch 00013: val_accuracy improved from 0.79159 to 0.79212, saving model to ./models\\weights-improvement-13-0.79.hdf5\n",
      "207/207 - 1s - loss: 0.4908 - accuracy: 0.7825 - val_loss: 0.4659 - val_accuracy: 0.7921\n",
      "Epoch 14/1000\n",
      "\n",
      "Epoch 00014: val_accuracy improved from 0.79212 to 0.79348, saving model to ./models\\weights-improvement-14-0.79.hdf5\n",
      "207/207 - 1s - loss: 0.4877 - accuracy: 0.7835 - val_loss: 0.4617 - val_accuracy: 0.7935\n",
      "Epoch 15/1000\n",
      "\n",
      "Epoch 00015: val_accuracy improved from 0.79348 to 0.79477, saving model to ./models\\weights-improvement-15-0.79.hdf5\n",
      "207/207 - 1s - loss: 0.4811 - accuracy: 0.7846 - val_loss: 0.4622 - val_accuracy: 0.7948\n",
      "Epoch 16/1000\n",
      "\n",
      "Epoch 00016: val_accuracy improved from 0.79477 to 0.79553, saving model to ./models\\weights-improvement-16-0.80.hdf5\n",
      "207/207 - 1s - loss: 0.4816 - accuracy: 0.7841 - val_loss: 0.4563 - val_accuracy: 0.7955\n",
      "Epoch 17/1000\n",
      "\n",
      "Epoch 00017: val_accuracy did not improve from 0.79553\n",
      "207/207 - 1s - loss: 0.4780 - accuracy: 0.7860 - val_loss: 0.4566 - val_accuracy: 0.7941\n",
      "Epoch 18/1000\n",
      "\n",
      "Epoch 00018: val_accuracy did not improve from 0.79553\n",
      "207/207 - 1s - loss: 0.4791 - accuracy: 0.7839 - val_loss: 0.4555 - val_accuracy: 0.7949\n",
      "Epoch 19/1000\n",
      "\n",
      "Epoch 00019: val_accuracy did not improve from 0.79553\n",
      "207/207 - 1s - loss: 0.4759 - accuracy: 0.7854 - val_loss: 0.4595 - val_accuracy: 0.7945\n",
      "Epoch 20/1000\n",
      "\n",
      "Epoch 00020: val_accuracy did not improve from 0.79553\n",
      "207/207 - 1s - loss: 0.4738 - accuracy: 0.7873 - val_loss: 0.4582 - val_accuracy: 0.7925\n",
      "Epoch 21/1000\n",
      "\n",
      "Epoch 00021: val_accuracy did not improve from 0.79553\n",
      "207/207 - 1s - loss: 0.4732 - accuracy: 0.7858 - val_loss: 0.4543 - val_accuracy: 0.7940\n",
      "Epoch 22/1000\n",
      "\n",
      "Epoch 00022: val_accuracy did not improve from 0.79553\n",
      "207/207 - 1s - loss: 0.4683 - accuracy: 0.7889 - val_loss: 0.4562 - val_accuracy: 0.7949\n",
      "Epoch 23/1000\n",
      "\n",
      "Epoch 00023: val_accuracy improved from 0.79553 to 0.79636, saving model to ./models\\weights-improvement-23-0.80.hdf5\n",
      "207/207 - 1s - loss: 0.4659 - accuracy: 0.7899 - val_loss: 0.4506 - val_accuracy: 0.7964\n",
      "Epoch 24/1000\n",
      "\n",
      "Epoch 00024: val_accuracy improved from 0.79636 to 0.79712, saving model to ./models\\weights-improvement-24-0.80.hdf5\n",
      "207/207 - 1s - loss: 0.4663 - accuracy: 0.7884 - val_loss: 0.4500 - val_accuracy: 0.7971\n",
      "Epoch 25/1000\n",
      "\n",
      "Epoch 00025: val_accuracy did not improve from 0.79712\n",
      "207/207 - 1s - loss: 0.4651 - accuracy: 0.7885 - val_loss: 0.4494 - val_accuracy: 0.7969\n",
      "Epoch 26/1000\n",
      "\n",
      "Epoch 00026: val_accuracy did not improve from 0.79712\n",
      "207/207 - 1s - loss: 0.4631 - accuracy: 0.7894 - val_loss: 0.4498 - val_accuracy: 0.7957\n",
      "Epoch 27/1000\n",
      "\n",
      "Epoch 00027: val_accuracy did not improve from 0.79712\n",
      "207/207 - 1s - loss: 0.4646 - accuracy: 0.7921 - val_loss: 0.4493 - val_accuracy: 0.7948\n",
      "Epoch 28/1000\n",
      "\n",
      "Epoch 00028: val_accuracy did not improve from 0.79712\n",
      "207/207 - 1s - loss: 0.4630 - accuracy: 0.7897 - val_loss: 0.4491 - val_accuracy: 0.7952\n",
      "Epoch 29/1000\n",
      "\n",
      "Epoch 00029: val_accuracy did not improve from 0.79712\n",
      "207/207 - 1s - loss: 0.4613 - accuracy: 0.7918 - val_loss: 0.4514 - val_accuracy: 0.7956\n",
      "Epoch 30/1000\n",
      "\n",
      "Epoch 00030: val_accuracy improved from 0.79712 to 0.79735, saving model to ./models\\weights-improvement-30-0.80.hdf5\n",
      "207/207 - 1s - loss: 0.4608 - accuracy: 0.7907 - val_loss: 0.4483 - val_accuracy: 0.7973\n",
      "Epoch 31/1000\n",
      "\n",
      "Epoch 00031: val_accuracy improved from 0.79735 to 0.79811, saving model to ./models\\weights-improvement-31-0.80.hdf5\n",
      "207/207 - 1s - loss: 0.4604 - accuracy: 0.7933 - val_loss: 0.4481 - val_accuracy: 0.7981\n",
      "Epoch 32/1000\n",
      "\n",
      "Epoch 00032: val_accuracy did not improve from 0.79811\n",
      "207/207 - 1s - loss: 0.4577 - accuracy: 0.7911 - val_loss: 0.4488 - val_accuracy: 0.7938\n",
      "Epoch 33/1000\n",
      "\n",
      "Epoch 00033: val_accuracy improved from 0.79811 to 0.79939, saving model to ./models\\weights-improvement-33-0.80.hdf5\n",
      "207/207 - 1s - loss: 0.4580 - accuracy: 0.7898 - val_loss: 0.4477 - val_accuracy: 0.7994\n",
      "Epoch 34/1000\n",
      "\n",
      "Epoch 00034: val_accuracy did not improve from 0.79939\n",
      "207/207 - 1s - loss: 0.4580 - accuracy: 0.7921 - val_loss: 0.4492 - val_accuracy: 0.7970\n",
      "Epoch 35/1000\n",
      "\n",
      "Epoch 00035: val_accuracy did not improve from 0.79939\n",
      "207/207 - 1s - loss: 0.4567 - accuracy: 0.7900 - val_loss: 0.4466 - val_accuracy: 0.7953\n",
      "Epoch 36/1000\n",
      "\n",
      "Epoch 00036: val_accuracy did not improve from 0.79939\n",
      "207/207 - 1s - loss: 0.4574 - accuracy: 0.7910 - val_loss: 0.4458 - val_accuracy: 0.7953\n",
      "Epoch 37/1000\n",
      "\n",
      "Epoch 00037: val_accuracy did not improve from 0.79939\n",
      "207/207 - 1s - loss: 0.4554 - accuracy: 0.7925 - val_loss: 0.4447 - val_accuracy: 0.7967\n",
      "Epoch 38/1000\n",
      "\n",
      "Epoch 00038: val_accuracy did not improve from 0.79939\n",
      "207/207 - 1s - loss: 0.4564 - accuracy: 0.7922 - val_loss: 0.4445 - val_accuracy: 0.7986\n",
      "Epoch 39/1000\n",
      "\n",
      "Epoch 00039: val_accuracy did not improve from 0.79939\n",
      "207/207 - 1s - loss: 0.4554 - accuracy: 0.7934 - val_loss: 0.4467 - val_accuracy: 0.7963\n",
      "Epoch 40/1000\n",
      "\n",
      "Epoch 00040: val_accuracy did not improve from 0.79939\n",
      "207/207 - 1s - loss: 0.4543 - accuracy: 0.7929 - val_loss: 0.4473 - val_accuracy: 0.7988\n",
      "Epoch 41/1000\n",
      "\n",
      "Epoch 00041: val_accuracy did not improve from 0.79939\n",
      "207/207 - 1s - loss: 0.4535 - accuracy: 0.7939 - val_loss: 0.4404 - val_accuracy: 0.7964\n",
      "Epoch 42/1000\n",
      "\n",
      "Epoch 00042: val_accuracy did not improve from 0.79939\n",
      "207/207 - 1s - loss: 0.4525 - accuracy: 0.7935 - val_loss: 0.4440 - val_accuracy: 0.7987\n",
      "Epoch 43/1000\n",
      "\n",
      "Epoch 00043: val_accuracy did not improve from 0.79939\n",
      "207/207 - 1s - loss: 0.4512 - accuracy: 0.7933 - val_loss: 0.4396 - val_accuracy: 0.7989\n",
      "516/516 - 0s - loss: 0.4453 - accuracy: 0.7994\n",
      "Test Loss = 0.44533807039260864, Test Accuracy = 0.7993939518928528\n"
     ]
    }
   ],
   "source": [
    "from keras.callbacks import TensorBoard\n",
    "from keras.models import Sequential\n",
    "from keras.layers import Dense, Dropout, LayerNormalization\n",
    "from keras.optimizers import RMSprop, Adam\n",
    "from tensorflow.keras.callbacks import EarlyStopping, ModelCheckpoint\n",
    "mlp_model = Sequential()\n",
    "mlp_model.add(Dense(128, activation='relu', input_dim=X_train_scaled.shape[1]))\n",
    "mlp_model.add(Dropout(0.5))\n",
    "mlp_model.add(Dense(256, activation='relu'))\n",
    "mlp_model.add(Dropout(0.5))\n",
    "mlp_model.add(Dense(len(label_encoder.classes_), activation='softmax'))\n",
    "optimizer = Adam(learning_rate=0.001)\n",
    "\n",
    "callback = [\n",
    "    EarlyStopping(monitor='val_accuracy',patience=10,mode='max',restore_best_weights=True),\n",
    "    ModelCheckpoint(\"./models/weights-improvement-{epoch:02d}-{val_accuracy:.2f}.hdf5\",monitor='val_accuracy',verbose=1,save_best_only=True,mode='max'),\n",
    "    TensorBoard(log_dir=\"./model\", histogram_freq=1)\n",
    "]\n",
    "\n",
    "# compile model\n",
    "mlp_model.compile(loss='categorical_crossentropy', optimizer=optimizer, metrics=['accuracy'])\n",
    "# train model\n",
    "train_history = mlp_model.fit(X_train_scaled, y_train_one_hot, batch_size=256, epochs=1000, validation_split=0.2, verbose=2, callbacks=callback)\n",
    "test_loss, test_accuracy = mlp_model.evaluate(X_test_scaled, y_test_one_hot, verbose=2)\n",
    "print(f\"Test Loss = {test_loss}, Test Accuracy = {test_accuracy}\")\n"
   ]
  },
  {
   "cell_type": "code",
   "execution_count": 36,
   "metadata": {
    "ExecuteTime": {
     "end_time": "2023-08-13T15:30:07.707112900Z",
     "start_time": "2023-08-13T15:30:05.060553200Z"
    }
   },
   "outputs": [
    {
     "data": {
      "image/png": "[encoded data removed]",
      "text/plain": [
       "<Figure size 432x288 with 1 Axes>"
      ]
     },
     "metadata": {
      "needs_background": "light"
     },
     "output_type": "display_data"
    },
    {
     "data": {
      "image/png": "[encoded data removed]",
      "text/plain": [
       "<Figure size 432x288 with 1 Axes>"
      ]
     },
     "metadata": {
      "needs_background": "light"
     },
     "output_type": "display_data"
    }
   ],
   "source": [
    "import matplotlib.pyplot as plt\n",
    "import random\n",
    "plt.rc('font',family='Times New Roman')\n",
    "loss = train_history.history['loss']\n",
    "val_loss = train_history.history['val_loss']\n",
    "epochs = range(1, len(loss) + 1)\n",
    "plt.plot(epochs, loss[0:], 'blue', label='Training',linestyle=\"--\",linewidth='2')\n",
    "plt.plot(epochs, val_loss[0:], 'red', label='Validation',linestyle=\"--\",linewidth='2')\n",
    "plt.xlabel('Epochs',fontsize=20)\n",
    "plt.ylabel('LOSS',fontsize=20)\n",
    "plt.xticks(fontsize=20)\n",
    "plt.yticks(fontsize=20)\n",
    "plt.legend(fontsize=20)\n",
    "plt.show()\n",
    "\n",
    "accuracy = train_history.history['accuracy']\n",
    "val_accuracy = train_history.history['val_accuracy']\n",
    "epochs = range(1, len(loss) + 1)\n",
    "plt.plot(epochs, accuracy[0:], 'blue', label='Accuracy',linestyle=\"--\",linewidth='2')\n",
    "plt.plot(epochs, val_accuracy[0:], 'red', label='Val_Accuracy',linestyle=\"--\",linewidth='2')\n",
    "plt.xlabel('Epochs',fontsize=20)\n",
    "plt.ylabel('Accuracy',fontsize=20)\n",
    "plt.xticks(fontsize=20)\n",
    "plt.yticks(fontsize=20)\n",
    "plt.legend(fontsize=20)\n",
    "plt.show()"
   ]
  },
  {
   "cell_type": "code",
   "execution_count": 25,
   "metadata": {
    "ExecuteTime": {
     "end_time": "2023-08-14T15:26:38.302496900Z",
     "start_time": "2023-08-14T15:26:38.278416Z"
    }
   },
   "outputs": [],
   "source": [
    "from sklearn.metrics import confusion_matrix,ConfusionMatrixDisplay\n",
    "import matplotlib.pyplot as plt\n",
    "from sklearn.metrics import roc_curve,roc_auc_score, auc, precision_score, recall_score\n",
    "import numpy as np\n",
    "def plot_roc(y_scores, y_test_one_hot):\n",
    "    fpr = {}\n",
    "    tpr = {}\n",
    "    roc_auc = {}\n",
    "    labels = {}\n",
    "    n_classes = len(label_encoder.classes_)  # Number of categories\n",
    "    for i in range(n_classes):\n",
    "        fpr[i], tpr[i], _ = roc_curve(y_test_one_hot[:, i], y_scores[:, i])\n",
    "        roc_auc[i] = auc(fpr[i], tpr[i])\n",
    "        labels[i] = label_encoder.classes_[i]\n",
    "\n",
    "    # plot every class roc\n",
    "    plt.figure(figsize=(8, 6))\n",
    "    for i in range(n_classes):\n",
    "        plt.plot(fpr[i], tpr[i], label='%s ROC curve (area = %0.2f)' % (labels[i], roc_auc[i]))\n",
    "\n",
    "    plt.plot([0, 1], [0, 1], 'k--')\n",
    "    plt.xlim([0.0, 1.0])\n",
    "    plt.ylim([0.0, 1.05])\n",
    "    plt.xlabel('False Positive Rate')\n",
    "    plt.ylabel('True Positive Rate')\n",
    "    plt.title('ROC Curve')\n",
    "    plt.legend(loc=\"lower right\")\n",
    "    plt.show()\n"
   ]
  },
  {
   "cell_type": "code",
   "execution_count": 42,
   "metadata": {
    "ExecuteTime": {
     "end_time": "2023-08-13T15:44:00.394432Z",
     "start_time": "2023-08-13T15:43:58.816404100Z"
    }
   },
   "outputs": [
    {
     "data": {
      "image/png": "[encoded data removed]",
      "text/plain": [
       "<Figure size 576x432 with 1 Axes>"
      ]
     },
     "metadata": {
      "needs_background": "light"
     },
     "output_type": "display_data"
    },
    {
     "data": {
      "text/plain": [
       "array([[5.1916641e-07, 2.8568249e-05, 1.0087881e-02, 8.1739473e-01,\n",
       "        1.7248826e-01],\n",
       "       [2.6732891e-06, 3.1745840e-05, 3.1206135e-02, 6.8693286e-01,\n",
       "        2.8182656e-01],\n",
       "       [3.5553272e-05, 2.7839867e-05, 3.3475420e-01, 6.6518241e-01,\n",
       "        2.3208065e-08],\n",
       "       ...,\n",
       "       [8.0461566e-09, 4.5148026e-05, 9.8044379e-03, 9.8995495e-01,\n",
       "        1.9536926e-04],\n",
       "       [2.0127960e-04, 5.0284807e-06, 5.1367605e-01, 4.8611742e-01,\n",
       "        2.5466855e-07],\n",
       "       [3.8709794e-03, 2.4100322e-05, 5.1885408e-01, 2.6967090e-01,\n",
       "        2.0757999e-01]], dtype=float32)"
      ]
     },
     "execution_count": 42,
     "metadata": {},
     "output_type": "execute_result"
    }
   ],
   "source": [
    "y_scores = mlp_model.predict(X_test_scaled)\n",
    "plot_roc(to_categorical(np.argmax(y_scores , axis=1)), y_test_one_hot)\n",
    "y_scores"
   ]
  },
  {
   "cell_type": "code",
   "execution_count": 43,
   "metadata": {
    "ExecuteTime": {
     "end_time": "2023-08-13T15:44:04.178283200Z",
     "start_time": "2023-08-13T15:44:04.103694800Z"
    }
   },
   "outputs": [
    {
     "data": {
      "text/plain": [
       "array([[  354,     0,     0,    38,     0],\n",
       "       [    0,    95,     1,   100,    16],\n",
       "       [    8,     2,  1943,  1514,   126],\n",
       "       [   68,    29,   804, 10181,   224],\n",
       "       [    8,     9,   114,   249,   617]], dtype=int64)"
      ]
     },
     "execution_count": 43,
     "metadata": {},
     "output_type": "execute_result"
    }
   ],
   "source": [
    "from sklearn.metrics import confusion_matrix,ConfusionMatrixDisplay\n",
    "cm = confusion_matrix(y_test, np.argmax(y_scores , axis=1))\n",
    "cm"
   ]
  },
  {
   "cell_type": "code",
   "execution_count": 91,
   "metadata": {
    "ExecuteTime": {
     "end_time": "2023-08-12T10:34:34.438900400Z",
     "start_time": "2023-08-12T10:34:31.779848200Z"
    }
   },
   "outputs": [
    {
     "data": {
      "text/plain": [
       "<Figure size 1920x1280 with 0 Axes>"
      ]
     },
     "metadata": {},
     "output_type": "display_data"
    },
    {
     "data": {
      "image/png": "[encoded data removed]",
      "text/plain": [
       "<Figure size 432x288 with 2 Axes>"
      ]
     },
     "metadata": {
      "needs_background": "light"
     },
     "output_type": "display_data"
    }
   ],
   "source": [
    "disp = ConfusionMatrixDisplay(confusion_matrix=cm, display_labels=label_encoder.classes_)\n",
    "plt.figure(dpi=320)\n",
    "disp.plot(cmap=plt.cm.Blues,values_format='d')\n",
    "plt.savefig(\"cm.png\",dpi=400)"
   ]
  },
  {
   "cell_type": "code",
   "execution_count": 46,
   "metadata": {
    "ExecuteTime": {
     "end_time": "2023-08-14T16:06:52.944438200Z",
     "start_time": "2023-08-14T16:06:52.763737400Z"
    }
   },
   "outputs": [
    {
     "name": "stdout",
     "output_type": "stream",
     "text": [
      "(65988, 10, 18)\n",
      "(65988, 18)\n"
     ]
    }
   ],
   "source": [
    "import numpy as np\n",
    "\n",
    "n_steps = 10\n",
    "\n",
    "def create_sequences(data, n_steps):\n",
    "    X = []\n",
    "    for i in range(len(data) - n_steps):\n",
    "        X.append(data[i:i + n_steps])\n",
    "    return np.array(X)\n",
    "\n",
    "# Create sequences for the LSTM input\n",
    "X_train_lstm = create_sequences(X_train_scaled, n_steps)\n",
    "X_train_scaled_lstm = X_train_scaled[n_steps:]\n",
    "y_train_one_hot_lstm = y_train_one_hot[n_steps:]\n",
    "\n",
    "X_test_lstm = create_sequences(X_test_scaled, n_steps)\n",
    "X_test_scaled_lstm = X_test_scaled[n_steps:]\n",
    "y_test_one_hot_lstm = y_test_one_hot[n_steps:]\n",
    "print(X_train_lstm.shape)\n",
    "print(X_train_scaled_lstm.shape)"
   ]
  },
  {
   "cell_type": "code",
   "execution_count": 49,
   "metadata": {
    "ExecuteTime": {
     "end_time": "2023-08-14T16:11:19.454497Z",
     "start_time": "2023-08-14T16:09:15.749170500Z"
    }
   },
   "outputs": [
    {
     "name": "stdout",
     "output_type": "stream",
     "text": [
      "Epoch 1/1000\n",
      "WARNING:tensorflow:Callbacks method `on_train_batch_end` is slow compared to the batch time (batch time: 0.0120s vs `on_train_batch_end` time: 0.3535s). Check your callbacks.\n",
      "\n",
      "Epoch 00001: val_accuracy improved from -inf to 0.76209, saving model to ./models\\weights-improvement-01-0.76.hdf5\n",
      "232/232 - 6s - loss: 0.7559 - accuracy: 0.7072 - val_loss: 0.5837 - val_accuracy: 0.7621\n",
      "Epoch 2/1000\n",
      "\n",
      "Epoch 00002: val_accuracy improved from 0.76209 to 0.76406, saving model to ./models\\weights-improvement-02-0.76.hdf5\n",
      "232/232 - 5s - loss: 0.6089 - accuracy: 0.7448 - val_loss: 0.5496 - val_accuracy: 0.7641\n",
      "Epoch 3/1000\n",
      "\n",
      "Epoch 00003: val_accuracy improved from 0.76406 to 0.77618, saving model to ./models\\weights-improvement-03-0.78.hdf5\n",
      "232/232 - 5s - loss: 0.5809 - accuracy: 0.7518 - val_loss: 0.5330 - val_accuracy: 0.7762\n",
      "Epoch 4/1000\n",
      "\n",
      "Epoch 00004: val_accuracy improved from 0.77618 to 0.77875, saving model to ./models\\weights-improvement-04-0.78.hdf5\n",
      "232/232 - 4s - loss: 0.5651 - accuracy: 0.7552 - val_loss: 0.5172 - val_accuracy: 0.7788\n",
      "Epoch 5/1000\n",
      "\n",
      "Epoch 00005: val_accuracy improved from 0.77875 to 0.77997, saving model to ./models\\weights-improvement-05-0.78.hdf5\n",
      "232/232 - 4s - loss: 0.5546 - accuracy: 0.7617 - val_loss: 0.5104 - val_accuracy: 0.7800\n",
      "Epoch 6/1000\n",
      "\n",
      "Epoch 00006: val_accuracy improved from 0.77997 to 0.78239, saving model to ./models\\weights-improvement-06-0.78.hdf5\n",
      "232/232 - 4s - loss: 0.5447 - accuracy: 0.7649 - val_loss: 0.5028 - val_accuracy: 0.7824\n",
      "Epoch 7/1000\n",
      "\n",
      "Epoch 00007: val_accuracy improved from 0.78239 to 0.78300, saving model to ./models\\weights-improvement-07-0.78.hdf5\n",
      "232/232 - 4s - loss: 0.5354 - accuracy: 0.7695 - val_loss: 0.4978 - val_accuracy: 0.7830\n",
      "Epoch 8/1000\n",
      "\n",
      "Epoch 00008: val_accuracy improved from 0.78300 to 0.78497, saving model to ./models\\weights-improvement-08-0.78.hdf5\n",
      "232/232 - 3s - loss: 0.5267 - accuracy: 0.7707 - val_loss: 0.4944 - val_accuracy: 0.7850\n",
      "Epoch 9/1000\n",
      "\n",
      "Epoch 00009: val_accuracy improved from 0.78497 to 0.79133, saving model to ./models\\weights-improvement-09-0.79.hdf5\n",
      "232/232 - 3s - loss: 0.5215 - accuracy: 0.7729 - val_loss: 0.4839 - val_accuracy: 0.7913\n",
      "Epoch 10/1000\n",
      "\n",
      "Epoch 00010: val_accuracy improved from 0.79133 to 0.79148, saving model to ./models\\weights-improvement-10-0.79.hdf5\n",
      "232/232 - 4s - loss: 0.5146 - accuracy: 0.7762 - val_loss: 0.4757 - val_accuracy: 0.7915\n",
      "Epoch 11/1000\n",
      "\n",
      "Epoch 00011: val_accuracy did not improve from 0.79148\n",
      "232/232 - 3s - loss: 0.5039 - accuracy: 0.7774 - val_loss: 0.4727 - val_accuracy: 0.7888\n",
      "Epoch 12/1000\n",
      "\n",
      "Epoch 00012: val_accuracy improved from 0.79148 to 0.79179, saving model to ./models\\weights-improvement-12-0.79.hdf5\n",
      "232/232 - 5s - loss: 0.5013 - accuracy: 0.7790 - val_loss: 0.4717 - val_accuracy: 0.7918\n",
      "Epoch 13/1000\n",
      "\n",
      "Epoch 00013: val_accuracy improved from 0.79179 to 0.79239, saving model to ./models\\weights-improvement-13-0.79.hdf5\n",
      "232/232 - 4s - loss: 0.4964 - accuracy: 0.7818 - val_loss: 0.4644 - val_accuracy: 0.7924\n",
      "Epoch 14/1000\n",
      "\n",
      "Epoch 00014: val_accuracy did not improve from 0.79239\n",
      "232/232 - 4s - loss: 0.4891 - accuracy: 0.7822 - val_loss: 0.4621 - val_accuracy: 0.7918\n",
      "Epoch 15/1000\n",
      "\n",
      "Epoch 00015: val_accuracy did not improve from 0.79239\n",
      "232/232 - 4s - loss: 0.4864 - accuracy: 0.7842 - val_loss: 0.4627 - val_accuracy: 0.7924\n",
      "Epoch 16/1000\n",
      "\n",
      "Epoch 00016: val_accuracy improved from 0.79239 to 0.79270, saving model to ./models\\weights-improvement-16-0.79.hdf5\n",
      "232/232 - 5s - loss: 0.4826 - accuracy: 0.7851 - val_loss: 0.4623 - val_accuracy: 0.7927\n",
      "Epoch 17/1000\n",
      "\n",
      "Epoch 00017: val_accuracy did not improve from 0.79270\n",
      "232/232 - 5s - loss: 0.4793 - accuracy: 0.7859 - val_loss: 0.4623 - val_accuracy: 0.7875\n",
      "Epoch 18/1000\n",
      "\n",
      "Epoch 00018: val_accuracy did not improve from 0.79270\n",
      "232/232 - 4s - loss: 0.4767 - accuracy: 0.7857 - val_loss: 0.4595 - val_accuracy: 0.7897\n",
      "Epoch 19/1000\n",
      "\n",
      "Epoch 00019: val_accuracy improved from 0.79270 to 0.79345, saving model to ./models\\weights-improvement-19-0.79.hdf5\n",
      "232/232 - 4s - loss: 0.4719 - accuracy: 0.7883 - val_loss: 0.4589 - val_accuracy: 0.7935\n",
      "Epoch 20/1000\n",
      "\n",
      "Epoch 00020: val_accuracy did not improve from 0.79345\n",
      "232/232 - 4s - loss: 0.4698 - accuracy: 0.7914 - val_loss: 0.4569 - val_accuracy: 0.7916\n",
      "Epoch 21/1000\n",
      "\n",
      "Epoch 00021: val_accuracy did not improve from 0.79345\n",
      "232/232 - 4s - loss: 0.4643 - accuracy: 0.7938 - val_loss: 0.4540 - val_accuracy: 0.7886\n",
      "Epoch 22/1000\n",
      "\n",
      "Epoch 00022: val_accuracy did not improve from 0.79345\n",
      "232/232 - 5s - loss: 0.4613 - accuracy: 0.7928 - val_loss: 0.4585 - val_accuracy: 0.7918\n",
      "Epoch 23/1000\n",
      "\n",
      "Epoch 00023: val_accuracy did not improve from 0.79345\n",
      "232/232 - 6s - loss: 0.4599 - accuracy: 0.7950 - val_loss: 0.4545 - val_accuracy: 0.7932\n",
      "Epoch 24/1000\n",
      "\n",
      "Epoch 00024: val_accuracy did not improve from 0.79345\n",
      "232/232 - 3s - loss: 0.4549 - accuracy: 0.7990 - val_loss: 0.4609 - val_accuracy: 0.7875\n",
      "Epoch 25/1000\n",
      "\n",
      "Epoch 00025: val_accuracy did not improve from 0.79345\n",
      "232/232 - 4s - loss: 0.4522 - accuracy: 0.7992 - val_loss: 0.4610 - val_accuracy: 0.7862\n",
      "Epoch 26/1000\n",
      "\n",
      "Epoch 00026: val_accuracy did not improve from 0.79345\n",
      "232/232 - 4s - loss: 0.4474 - accuracy: 0.8000 - val_loss: 0.4575 - val_accuracy: 0.7903\n",
      "Epoch 27/1000\n",
      "\n",
      "Epoch 00027: val_accuracy did not improve from 0.79345\n",
      "232/232 - 3s - loss: 0.4443 - accuracy: 0.8018 - val_loss: 0.4623 - val_accuracy: 0.7847\n",
      "Epoch 28/1000\n",
      "\n",
      "Epoch 00028: val_accuracy did not improve from 0.79345\n",
      "232/232 - 3s - loss: 0.4421 - accuracy: 0.8049 - val_loss: 0.4617 - val_accuracy: 0.7859\n",
      "Epoch 29/1000\n",
      "\n",
      "Epoch 00029: val_accuracy did not improve from 0.79345\n",
      "232/232 - 3s - loss: 0.4366 - accuracy: 0.8067 - val_loss: 0.4657 - val_accuracy: 0.7824\n",
      "516/516 - 1s - loss: 0.4610 - accuracy: 0.7885\n",
      "Test Loss = 0.4610479176044464, Test Accuracy = 0.7885385155677795\n"
     ]
    }
   ],
   "source": [
    "from keras.callbacks import TensorBoard\n",
    "from keras.models import Sequential, Model\n",
    "from keras.layers import Dense, Dropout, LayerNormalization, LSTM, TimeDistributed, concatenate, Input\n",
    "from keras.optimizers import RMSprop, Adam\n",
    "from tensorflow.keras.callbacks import EarlyStopping, ModelCheckpoint\n",
    "\n",
    "input_shape_mlp = X_train_scaled.shape[1]\n",
    "\n",
    "# Define the input shape for the LSTM part of the model\n",
    "input_shape_lstm = (10, X_train_scaled.shape[1])  # Adjust sequence_length and num_features accordingly\n",
    "\n",
    "# MLP model\n",
    "mlp_input = Input(shape=(input_shape_mlp,))\n",
    "mlp_layer1 = Dense(128, activation='relu')(mlp_input)\n",
    "mlp_layer1_dropout = Dropout(0.5)(mlp_layer1)\n",
    "mlp_layer2 = Dense(64, activation='relu')(mlp_layer1_dropout)\n",
    "mlp_layer2_dropout = Dropout(0.25)(mlp_layer2)\n",
    "\n",
    "# LSTM model\n",
    "lstm_input = Input(shape=input_shape_lstm)\n",
    "lstm_layer = LSTM(64)(lstm_input)\n",
    "\n",
    "concatenated = concatenate([mlp_layer2_dropout, lstm_layer])\n",
    "\n",
    "output_layer = Dense(len(label_encoder.classes_), activation='softmax')(concatenated)\n",
    "\n",
    "combined_model = Model(inputs=[mlp_input, lstm_input], outputs=output_layer)\n",
    "\n",
    "optimizer = Adam(learning_rate=0.001)\n",
    "\n",
    "\n",
    "callback = [\n",
    "    EarlyStopping(monitor='val_accuracy',patience=10,mode='max',restore_best_weights=True),\n",
    "    ModelCheckpoint(\"./models/weights-improvement-{epoch:02d}-{val_accuracy:.2f}.hdf5\",monitor='val_accuracy',verbose=1,save_best_only=True,mode='max'),\n",
    "    TensorBoard(log_dir=\"./model\", histogram_freq=1)\n",
    "]\n",
    "\n",
    "\n",
    "combined_model.compile(loss='categorical_crossentropy', optimizer=optimizer, metrics=['accuracy'])\n",
    "\n",
    "lstm_train_history = combined_model.fit([X_train_scaled_lstm, X_train_lstm], y_train_one_hot_lstm, batch_size=256, epochs=1000, validation_split=0.1, verbose=2, callbacks=callback)\n",
    "test_loss, test_accuracy = combined_model.evaluate([X_test_scaled_lstm, X_test_lstm], y_test_one_hot_lstm, verbose=2)\n",
    "print(f\"Test Loss = {test_loss}, Test Accuracy = {test_accuracy}\")"
   ]
  },
  {
   "cell_type": "code",
   "execution_count": 67,
   "metadata": {
    "ExecuteTime": {
     "end_time": "2023-08-14T16:15:05.307492600Z",
     "start_time": "2023-08-14T16:15:04.522944800Z"
    }
   },
   "outputs": [
    {
     "data": {
      "image/png": "[encoded data removed]",
      "text/plain": [
       "<Figure size 432x288 with 1 Axes>"
      ]
     },
     "metadata": {
      "needs_background": "light"
     },
     "output_type": "display_data"
    },
    {
     "data": {
      "image/png": "[encoded data removed]",
      "text/plain": [
       "<Figure size 432x288 with 1 Axes>"
      ]
     },
     "metadata": {
      "needs_background": "light"
     },
     "output_type": "display_data"
    }
   ],
   "source": [
    "import matplotlib.pyplot as plt\n",
    "import  random\n",
    "plt.rc('font',family='Times New Roman')\n",
    "loss = lstm_train_history.history['loss']\n",
    "val_loss = lstm_train_history.history['val_loss']\n",
    "\n",
    "epochs = range(1, len(loss) + 1)\n",
    "plt.plot(epochs, loss[0:], 'blue', label='Training',linestyle=\"--\",linewidth='2')\n",
    "plt.plot(epochs, val_loss[0:], 'red', label='Validation',linestyle=\"--\",linewidth='2')\n",
    "plt.xlabel('Epochs',fontsize=20)\n",
    "plt.ylabel('LOSS',fontsize=20)\n",
    "plt.xticks(fontsize=20)\n",
    "plt.yticks(fontsize=20)\n",
    "plt.legend(fontsize=20)\n",
    "plt.show()\n",
    "\n",
    "accuracy = lstm_train_history.history['accuracy']\n",
    "val_accuracy = lstm_train_history.history['val_accuracy']\n",
    "epochs = range(1, len(loss) + 1)\n",
    "plt.plot(epochs, accuracy[0:], 'blue', label='Accuracy',linestyle=\"--\",linewidth='2')\n",
    "plt.plot(epochs, val_accuracy[0:], 'red', label='Val_Accuracy',linestyle=\"--\",linewidth='2')\n",
    "plt.xlabel('Epochs',fontsize=20)\n",
    "plt.ylabel('Accuracy',fontsize=20)\n",
    "plt.xticks(fontsize=20)\n",
    "plt.yticks(fontsize=20)\n",
    "plt.legend(fontsize=20)\n",
    "plt.show()"
   ]
  },
  {
   "cell_type": "code",
   "execution_count": 118,
   "metadata": {
    "ExecuteTime": {
     "end_time": "2023-07-01T07:15:55.214492700Z",
     "start_time": "2023-07-01T07:15:55.155790800Z"
    }
   },
   "outputs": [],
   "source": [
    "mlp_model.save(\"./models/0.79.h5\")"
   ]
  },
  {
   "cell_type": "code",
   "execution_count": 33,
   "metadata": {
    "ExecuteTime": {
     "end_time": "2023-08-14T15:38:44.383602400Z",
     "start_time": "2023-08-14T15:38:40.723153900Z"
    }
   },
   "outputs": [],
   "source": [
    "y_scores = combined_model.predict([X_test_scaled_lstm, X_test_lstm])"
   ]
  },
  {
   "cell_type": "code",
   "execution_count": 30,
   "metadata": {
    "ExecuteTime": {
     "end_time": "2023-08-14T15:33:04.311753400Z",
     "start_time": "2023-08-14T15:32:58.443584Z"
    }
   },
   "outputs": [
    {
     "data": {
      "text/plain": [
       "<Figure size 1920x1280 with 0 Axes>"
      ]
     },
     "metadata": {},
     "output_type": "display_data"
    },
    {
     "data": {
      "image/png": "[encoded data removed]",
      "text/plain": [
       "<Figure size 432x288 with 2 Axes>"
      ]
     },
     "metadata": {
      "needs_background": "light"
     },
     "output_type": "display_data"
    }
   ],
   "source": [
    "y_scores = combined_model.predict([X_test_scaled_lstm, X_test_lstm])\n",
    "cm = confusion_matrix(np.argmax(y_test_one_hot_lstm,axis=1), np.argmax(y_scores , axis=1))\n",
    "disp = ConfusionMatrixDisplay(confusion_matrix=cm, display_labels=label_encoder.classes_)\n",
    "plt.figure(dpi=320)\n",
    "disp.plot(cmap=plt.cm.Blues,values_format='d')\n",
    "plt.savefig(\"cm_lstm.png\",dpi=400)"
   ]
  },
  {
   "cell_type": "code",
   "execution_count": 47,
   "metadata": {
    "ExecuteTime": {
     "end_time": "2023-08-13T15:47:17.760144200Z",
     "start_time": "2023-08-13T15:47:17.707624900Z"
    }
   },
   "outputs": [
    {
     "data": {
      "text/plain": [
       "array([3, 3, 3, ..., 3, 3, 3], dtype=int64)"
      ]
     },
     "execution_count": 47,
     "metadata": {},
     "output_type": "execute_result"
    }
   ],
   "source": [
    "np.argmax(y_test_one_hot_lstm,axis=1)"
   ]
  },
  {
   "cell_type": "code",
   "execution_count": 34,
   "metadata": {
    "ExecuteTime": {
     "end_time": "2023-08-14T15:38:50.784823100Z",
     "start_time": "2023-08-14T15:38:50.742827100Z"
    }
   },
   "outputs": [
    {
     "name": "stdout",
     "output_type": "stream",
     "text": [
      "precision: 0.8068661093711853\n"
     ]
    }
   ],
   "source": [
    "print(f'precision: {precision(y_test_one_hot_lstm, y_scores)}')"
   ]
  },
  {
   "cell_type": "code",
   "execution_count": 35,
   "metadata": {
    "ExecuteTime": {
     "end_time": "2023-08-14T15:38:52.807649200Z",
     "start_time": "2023-08-14T15:38:52.767635600Z"
    }
   },
   "outputs": [
    {
     "name": "stdout",
     "output_type": "stream",
     "text": [
      "recall: 0.7539721131324768\n"
     ]
    }
   ],
   "source": [
    "print(f'recall: {recall(y_test_one_hot_lstm, y_scores)}')"
   ]
  },
  {
   "cell_type": "code",
   "execution_count": 50,
   "metadata": {
    "ExecuteTime": {
     "end_time": "2023-08-13T15:49:42.747119600Z",
     "start_time": "2023-08-13T15:49:37.398150900Z"
    }
   },
   "outputs": [
    {
     "data": {
      "text/plain": [
       "RandomForestClassifier(bootstrap=True, ccp_alpha=0.0, class_weight=None,\n",
       "                       criterion='gini', max_depth=None, max_features='auto',\n",
       "                       max_leaf_nodes=None, max_samples=None,\n",
       "                       min_impurity_decrease=0.0, min_impurity_split=None,\n",
       "                       min_samples_leaf=1, min_samples_split=2,\n",
       "                       min_weight_fraction_leaf=0.0, n_estimators=10,\n",
       "                       n_jobs=None, oob_score=False, random_state=None,\n",
       "                       verbose=0, warm_start=False)"
      ]
     },
     "execution_count": 50,
     "metadata": {},
     "output_type": "execute_result"
    }
   ],
   "source": [
    "#RandomForest\n",
    "from sklearn.ensemble import RandomForestClassifier\n",
    "rf_model = RandomForestClassifier(n_estimators = 10, criterion=\"gini\")\n",
    "rf_model.fit(X_train_scaled, y_train_one_hot)"
   ]
  },
  {
   "cell_type": "code",
   "execution_count": 51,
   "metadata": {
    "ExecuteTime": {
     "end_time": "2023-08-13T15:49:43.531006500Z",
     "start_time": "2023-08-13T15:49:42.748120200Z"
    }
   },
   "outputs": [
    {
     "name": "stdout",
     "output_type": "stream",
     "text": [
      "准确率： 0.7303030303030303\n",
      "precision： tf.Tensor(0.8244954, shape=(), dtype=float32)\n",
      "recall:  tf.Tensor(0.73030305, shape=(), dtype=float32)\n"
     ]
    },
    {
     "data": {
      "image/png": "[encoded data removed]",
      "text/plain": [
       "<Figure size 576x432 with 1 Axes>"
      ]
     },
     "metadata": {
      "needs_background": "light"
     },
     "output_type": "display_data"
    }
   ],
   "source": [
    "y_pred = rf_model.predict(X_test_scaled)\n",
    "accuracy = accuracy_score(y_test_one_hot, y_pred)\n",
    "plot_roc(y_pred, y_test_one_hot)\n",
    "print(\"accuracy：\", accuracy)\n",
    "print(\"precision：\", precision(y_test_one_hot, y_pred))\n",
    "print(\"recall: \", recall(y_test_one_hot, y_pred))"
   ]
  },
  {
   "cell_type": "code",
   "execution_count": 52,
   "metadata": {
    "ExecuteTime": {
     "end_time": "2023-08-13T15:49:58.191210100Z",
     "start_time": "2023-08-13T15:49:58.154211Z"
    }
   },
   "outputs": [
    {
     "data": {
      "text/plain": [
       "array([[0., 0., 0., 1., 0.],\n",
       "       [0., 0., 0., 1., 0.],\n",
       "       [0., 0., 0., 1., 0.],\n",
       "       ...,\n",
       "       [0., 0., 0., 1., 0.],\n",
       "       [0., 0., 1., 0., 0.],\n",
       "       [0., 0., 0., 0., 0.]], dtype=float32)"
      ]
     },
     "execution_count": 52,
     "metadata": {},
     "output_type": "execute_result"
    }
   ],
   "source": [
    "y_pred"
   ]
  },
  {
   "cell_type": "code",
   "execution_count": 53,
   "metadata": {
    "ExecuteTime": {
     "end_time": "2023-08-13T15:50:22.907173200Z",
     "start_time": "2023-08-13T15:50:19.680144200Z"
    }
   },
   "outputs": [
    {
     "data": {
      "text/plain": [
       "<Figure size 1920x1280 with 0 Axes>"
      ]
     },
     "metadata": {},
     "output_type": "display_data"
    },
    {
     "data": {
      "image/png": "[encoded data removed]",
      "text/plain": [
       "<Figure size 432x288 with 2 Axes>"
      ]
     },
     "metadata": {
      "needs_background": "light"
     },
     "output_type": "display_data"
    }
   ],
   "source": [
    "cm = confusion_matrix(y_test, np.argmax(y_pred , axis=1))\n",
    "disp = ConfusionMatrixDisplay(confusion_matrix=cm, display_labels=label_encoder.classes_)\n",
    "plt.figure(dpi=320)\n",
    "disp.plot(cmap=plt.cm.Blues,values_format='d')\n",
    "plt.savefig(\"cm_lstm.png\",dpi=400)"
   ]
  },
  {
   "cell_type": "code",
   "execution_count": 54,
   "metadata": {
    "ExecuteTime": {
     "end_time": "2023-08-13T15:51:11.191900400Z",
     "start_time": "2023-08-13T15:51:10.857750900Z"
    }
   },
   "outputs": [],
   "source": [
    "#knn\n",
    "from sklearn.neighbors import KNeighborsClassifier\n",
    "knn_model = KNeighborsClassifier(n_neighbors=len(label_encoder.classes_)).fit(X_train_scaled,y_train_one_hot)"
   ]
  },
  {
   "cell_type": "code",
   "execution_count": 55,
   "metadata": {
    "ExecuteTime": {
     "end_time": "2023-08-13T15:51:36.794445800Z",
     "start_time": "2023-08-13T15:51:12.015290600Z"
    }
   },
   "outputs": [
    {
     "name": "stdout",
     "output_type": "stream",
     "text": [
      "准确率： 0.7511515151515151\n",
      "precision： tf.Tensor(0.78116727, shape=(), dtype=float32)\n",
      "recall:  tf.Tensor(0.7511515, shape=(), dtype=float32)\n"
     ]
    },
    {
     "data": {
      "image/png": "[encoded data removed]",
      "text/plain": [
       "<Figure size 576x432 with 1 Axes>"
      ]
     },
     "metadata": {
      "needs_background": "light"
     },
     "output_type": "display_data"
    }
   ],
   "source": [
    "y_pred = knn_model.predict(X_test_scaled)\n",
    "accuracy = accuracy_score(y_test_one_hot, y_pred)\n",
    "plot_roc(y_pred, y_test_one_hot)\n",
    "print(\"accuracy：\", accuracy)\n",
    "print(\"precision：\", precision(y_test_one_hot, y_pred))\n",
    "print(\"recall: \", recall(y_test_one_hot, y_pred))"
   ]
  },
  {
   "cell_type": "code",
   "execution_count": 56,
   "metadata": {
    "ExecuteTime": {
     "end_time": "2023-08-13T15:51:37.951041300Z",
     "start_time": "2023-08-13T15:51:36.790940800Z"
    }
   },
   "outputs": [
    {
     "data": {
      "text/plain": [
       "<Figure size 1920x1280 with 0 Axes>"
      ]
     },
     "metadata": {},
     "output_type": "display_data"
    },
    {
     "data": {
      "image/png": "[encoded data removed]",
      "text/plain": [
       "<Figure size 432x288 with 2 Axes>"
      ]
     },
     "metadata": {
      "needs_background": "light"
     },
     "output_type": "display_data"
    }
   ],
   "source": [
    "cm = confusion_matrix(y_test, np.argmax(y_pred , axis=1))\n",
    "disp = ConfusionMatrixDisplay(confusion_matrix=cm, display_labels=label_encoder.classes_)\n",
    "plt.figure(dpi=320)\n",
    "disp.plot(cmap=plt.cm.Blues,values_format='d')\n",
    "plt.savefig(\"cm_lstm.png\",dpi=400)"
   ]
  },
  {
   "cell_type": "code",
   "execution_count": 57,
   "metadata": {
    "ExecuteTime": {
     "end_time": "2023-08-13T15:53:24.692414Z",
     "start_time": "2023-08-13T15:53:24.686413900Z"
    }
   },
   "outputs": [],
   "source": [
    "def plot_roc_origin_data(y_scores, y_test_one_hot):\n",
    "    fpr = {}\n",
    "    tpr = {}\n",
    "    roc_auc = {}\n",
    "    labels = {}\n",
    "    # num of class\n",
    "    n_classes = len(label_encoder.classes_)\n",
    "    for i in range(n_classes):\n",
    "        fpr[i], tpr[i], _ = roc_curve(y_test_one_hot[:, i], list(map(lambda x: 1 if x == i else 0, y_scores)))\n",
    "        roc_auc[i] = auc(fpr[i], tpr[i])\n",
    "        labels[i] = label_encoder.classes_[i]\n",
    "\n",
    "    plt.figure(figsize=(8, 6))\n",
    "    for i in range(n_classes):\n",
    "        plt.plot(fpr[i], tpr[i], label='%s ROC curve (area = %0.2f)' % (labels[i], roc_auc[i]))\n",
    "\n",
    "    plt.plot([0, 1], [0, 1], 'k--')\n",
    "    plt.xlim([0.0, 1.0])\n",
    "    plt.ylim([0.0, 1.05])\n",
    "    plt.xlabel('False Positive Rate')\n",
    "    plt.ylabel('True Positive Rate')\n",
    "    plt.title('ROC Curve')\n",
    "    plt.legend(loc=\"lower right\")\n",
    "    plt.show()"
   ]
  },
  {
   "cell_type": "code",
   "execution_count": 58,
   "metadata": {
    "ExecuteTime": {
     "end_time": "2023-08-13T15:53:32.483314800Z",
     "start_time": "2023-08-13T15:53:26.217756900Z"
    }
   },
   "outputs": [
    {
     "name": "stderr",
     "output_type": "stream",
     "text": [
      "c:\\programdata\\miniconda3\\lib\\site-packages\\sklearn\\linear_model\\_logistic.py:940: ConvergenceWarning: lbfgs failed to converge (status=1):\n",
      "STOP: TOTAL NO. of ITERATIONS REACHED LIMIT.\n",
      "\n",
      "Increase the number of iterations (max_iter) or scale the data as shown in:\n",
      "    https://scikit-learn.org/stable/modules/preprocessing.html\n",
      "Please also refer to the documentation for alternative solver options:\n",
      "    https://scikit-learn.org/stable/modules/linear_model.html#logistic-regression\n",
      "  extra_warning_msg=_LOGISTIC_SOLVER_CONVERGENCE_MSG)\n"
     ]
    },
    {
     "data": {
      "text/plain": [
       "LogisticRegression(C=1.0, class_weight=None, dual=False, fit_intercept=True,\n",
       "                   intercept_scaling=1, l1_ratio=None, max_iter=100,\n",
       "                   multi_class='multinomial', n_jobs=None, penalty='l2',\n",
       "                   random_state=None, solver='lbfgs', tol=0.0001, verbose=0,\n",
       "                   warm_start=False)"
      ]
     },
     "execution_count": 58,
     "metadata": {},
     "output_type": "execute_result"
    }
   ],
   "source": [
    "#LogisticRegression\n",
    "from sklearn.linear_model import LogisticRegression\n",
    "lr_model = LogisticRegression(multi_class='multinomial', solver='lbfgs')\n",
    "lr_model.fit(X_train_scaled, y_train)\n"
   ]
  },
  {
   "cell_type": "code",
   "execution_count": 59,
   "metadata": {
    "ExecuteTime": {
     "end_time": "2023-08-13T15:53:33.363510800Z",
     "start_time": "2023-08-13T15:53:32.481314700Z"
    }
   },
   "outputs": [
    {
     "name": "stdout",
     "output_type": "stream",
     "text": [
      "准确率： 0.7695757575757576\n",
      "precision： 0.7695757575757576\n",
      "recall:  0.7695757575757576\n"
     ]
    },
    {
     "data": {
      "image/png": "[encoded data removed]",
      "text/plain": [
       "<Figure size 576x432 with 1 Axes>"
      ]
     },
     "metadata": {
      "needs_background": "light"
     },
     "output_type": "display_data"
    }
   ],
   "source": [
    "y_pred = lr_model.predict(X_test_scaled)\n",
    "accuracy = accuracy_score(y_test, y_pred)\n",
    "plot_roc_origin_data(y_pred, y_test_one_hot)\n",
    "print(\"accuracy：\", accuracy)\n",
    "print(\"precision：\", precision_score(y_test, y_pred ,average='micro'))\n",
    "print(\"recall: \", recall_score(y_test, y_pred, average='micro'))"
   ]
  },
  {
   "cell_type": "code",
   "execution_count": 61,
   "metadata": {
    "ExecuteTime": {
     "end_time": "2023-08-13T15:53:54.432799100Z",
     "start_time": "2023-08-13T15:53:52.543909900Z"
    }
   },
   "outputs": [
    {
     "data": {
      "text/plain": [
       "<Figure size 1920x1280 with 0 Axes>"
      ]
     },
     "metadata": {},
     "output_type": "display_data"
    },
    {
     "data": {
      "image/png": "[encoded data removed]",
      "text/plain": [
       "<Figure size 432x288 with 2 Axes>"
      ]
     },
     "metadata": {
      "needs_background": "light"
     },
     "output_type": "display_data"
    }
   ],
   "source": [
    "cm = confusion_matrix(y_test, y_pred )\n",
    "disp = ConfusionMatrixDisplay(confusion_matrix=cm, display_labels=label_encoder.classes_)\n",
    "plt.figure(dpi=320)\n",
    "disp.plot(cmap=plt.cm.Blues,values_format='d')\n",
    "plt.savefig(\"cm_lstm.png\",dpi=400)"
   ]
  },
  {
   "cell_type": "code",
   "execution_count": 62,
   "metadata": {
    "ExecuteTime": {
     "end_time": "2023-08-13T15:54:07.278536300Z",
     "start_time": "2023-08-13T15:54:07.230980700Z"
    }
   },
   "outputs": [],
   "source": [
    "#GaussianNB\n",
    "from sklearn.naive_bayes import GaussianNB\n",
    "gnb_model = GaussianNB().fit(X_train_scaled, y_train)\n"
   ]
  },
  {
   "cell_type": "code",
   "execution_count": 63,
   "metadata": {
    "ExecuteTime": {
     "end_time": "2023-08-13T15:54:08.917635500Z",
     "start_time": "2023-08-13T15:54:07.745810700Z"
    }
   },
   "outputs": [
    {
     "name": "stdout",
     "output_type": "stream",
     "text": [
      "准确率： 0.6487878787878788\n",
      "precision： 0.6487878787878788\n",
      "recall:  0.6487878787878788\n"
     ]
    },
    {
     "data": {
      "image/png": "[encoded data removed]",
      "text/plain": [
       "<Figure size 576x432 with 1 Axes>"
      ]
     },
     "metadata": {
      "needs_background": "light"
     },
     "output_type": "display_data"
    }
   ],
   "source": [
    "y_pred = gnb_model.predict(X_test_scaled)\n",
    "accuracy = accuracy_score(y_test, y_pred)\n",
    "plot_roc_origin_data(y_pred, y_test_one_hot)\n",
    "print(\"accuracy：\", accuracy)\n",
    "print(\"precision：\", precision_score(y_test, y_pred ,average='micro'))\n",
    "print(\"recall: \", recall_score(y_test, y_pred, average='micro'))"
   ]
  },
  {
   "cell_type": "code",
   "execution_count": 64,
   "metadata": {
    "ExecuteTime": {
     "end_time": "2023-08-13T15:54:18.290713Z",
     "start_time": "2023-08-13T15:54:15.774956600Z"
    }
   },
   "outputs": [
    {
     "data": {
      "text/plain": [
       "<Figure size 1920x1280 with 0 Axes>"
      ]
     },
     "metadata": {},
     "output_type": "display_data"
    },
    {
     "data": {
      "image/png": "[encoded data removed]",
      "text/plain": [
       "<Figure size 432x288 with 2 Axes>"
      ]
     },
     "metadata": {
      "needs_background": "light"
     },
     "output_type": "display_data"
    }
   ],
   "source": [
    "cm = confusion_matrix(y_test, y_pred )\n",
    "disp = ConfusionMatrixDisplay(confusion_matrix=cm, display_labels=label_encoder.classes_)\n",
    "plt.figure(dpi=320)\n",
    "disp.plot(cmap=plt.cm.Blues,values_format='d')\n",
    "plt.savefig(\"cm_lstm.png\",dpi=400)"
   ]
  },
  {
   "cell_type": "code",
   "execution_count": null,
   "metadata": {},
   "outputs": [],
   "source": []
  }
 ],
 "metadata": {
  "kernelspec": {
   "display_name": "Python 3 (ipykernel)",
   "language": "python",
   "name": "python3"
  },
  "language_info": {
   "codemirror_mode": {
    "name": "ipython",
    "version": 3
   },
   "file_extension": ".py",
   "mimetype": "text/x-python",
   "name": "python",
   "nbconvert_exporter": "python",
   "pygments_lexer": "ipython3",
   "version": "3.9.16"
  }
 },
 "nbformat": 4,
 "nbformat_minor": 1
}
